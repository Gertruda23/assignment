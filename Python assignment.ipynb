{
 "cells": [
  {
   "cell_type": "markdown",
   "metadata": {},
   "source": [
    "|Student name|ANR|\n",
    "|------------|---|\n",
    "|Gertruda Radziunaite|413150|\n",
    "|Carolina Velasquez|730095|\n"
   ]
  },
  {
   "cell_type": "markdown",
   "metadata": {},
   "source": [
    "# <font color=blue>Market institutions and Corporate social responsibility"
   ]
  },
  {
   "cell_type": "markdown",
   "metadata": {},
   "source": [
    "## Abstract"
   ]
  },
  {
   "cell_type": "markdown",
   "metadata": {},
   "source": [
    "<div style=\"text-align: justify\"> In this notebook we analyze the effect of free market institutions on corporate social responsibility (CSR). Using data from Asset4 and several indicators of free market operation downloaded from the websites of Fraser institute and Heritage Foundation we perform panel analysis to highlight if economic freedom stimulates or reducess CSR of companies.  Most of the literature distinguishes three dimensions of CSR, namely: social, environmental and economic. Throughout the paper we focus on environmental and social dimensions of CSR. Using a sample of 41 countries, we find that free market institutions reduce both social and environmental scores of CSR."
   ]
  },
  {
   "cell_type": "markdown",
   "metadata": {},
   "source": [
    "## Research question"
   ]
  },
  {
   "cell_type": "markdown",
   "metadata": {},
   "source": [
    "How does economic freedom affect different dimensions of CSR?"
   ]
  },
  {
   "cell_type": "markdown",
   "metadata": {},
   "source": [
    "## Motivation"
   ]
  },
  {
   "cell_type": "markdown",
   "metadata": {},
   "source": [
    "<div style=\"text-align: justify\"> In recent years there has been growing interest in exploring the link between economic freedom and economic growth. Most studies have found that economic freedom has a positive and statistically significant effect on economic growth (Dawson, [1998](#1998 Dawson); Doucouliagos and Ulubasoglu, [2005](#2005 Doucouliagos); Justesen, [2008](#2008 Justesen); Panahi et al., [2014](#2014 Panahi)). Some of the global institutions annually report indexes of the countries, which measure economic freedom aspects such as government integrity, corruption, corporate taxes, government spending, regulatory stringency, property rights and other important indicators. Most of them reveal that countries with more freedom are not only more prosperous, but also show less poverty, deprivation and sicknesses (Miller, Kim, [2017](#2017 Miller)). Hence, economic freedom is attracting considerable interest in research as well as in policy making.\n",
    "<style>\n",
    "    div.cell{\n",
    "        width:100%;\n",
    "        margin-left:1%;\n",
    "        margin-right:auto;\n",
    "    }\n",
    "</style> \n",
    "<div style=\"text-align: justify\">Recently several studies have discussed that free market institutions can positively as well as negatively affect corporate social responsibility (CSR) (Jackson and Apostolakou, [2010](#2010 Jackson); Kinderman, [2012](#2012 Kinderman), De Geer et al., [2010](#2010 De)). For example, Jackson and Apostolakou [(2010)](#2010 Jackson) have found that firms in countries with more liberal market economies have higher rates of CSR than in countries with more coordinated market economies.  Friedman [(1970)](#1970 Friedman) claims that companies should not care about CSR as one of the most important social responsibility of business is to engage in activities designed to maximize its profits and follow the wishes of shareholders. However, nowadays many companies tend to focus not only on the profits, but also seek to satisfy various societal needs, such a providing employee benefits, investing in clean energy products, improving employment quality and other important activities (Kitzmueller et al., [2012](#2012 Kitzmueller)). Indeed, CSR has become one of the standard business practices in the modern world, and its purposes, mechanisms, drivers and barriers are still intensely considered. \n",
    "\n",
    "<div style=\"text-align: justify\"> The relationship between economic freedom and CSR has recently received a lot of attention from both managers and scholars. However, there is a dearth of empirical evidence on how and why companies’ CSR performance is influenced by economic freedom. Thus, the present paper aims to examine whether free market institutions stimulate or reduce companies’ corporate social responsibility, focusing on their environmental and social practices.\n"
   ]
  },
  {
   "cell_type": "markdown",
   "metadata": {},
   "source": [
    "## Theoretical background"
   ]
  },
  {
   "cell_type": "markdown",
   "metadata": {},
   "source": [
    "#### *Economic freedom and CSR*"
   ]
  },
  {
   "cell_type": "markdown",
   "metadata": {},
   "source": [
    "<div style=\"text-align: justify\"> There is a considerable amount of literature on the definition of corporate social responsibility (Dahlsrud, [2008](#2008 Dahlsrud); Pinney, [2001](#2001 Pinney); Marsden, [2001](#2001 Marsden)). The generally accepted use of the term CSR refers to the relationship between businesses, governments and individual citizens (Crowther and Aras, [2008](#2008 Crowther)). Other definitions of the CSR are more complex and emphasize different dimensional aspects of CSR. For example, World Business Council for Sustainable Development (WBCSD) ([2000](#2000 WBCSD)) defines CSR as: “The continuing commitment by business to behave ethically and contribute to economic social development while improving the quality of life of the workforce and their families as well as the local community and society at large”. Hopkins ([1999](#1999 Hopkins)) highlights the existence of the stakeholders and states that the company should treat them in an ethically responsible way, not only within but also outside the company. Lea ([2002](#2002 Lea)) also emphasizes the importance of the interaction of businesses with their employees, suppliers and other stakeholders who operate outside the company as well as the extent they protect the environment. Although Friedman ([1970](#1970 Friedman)) argued that the primary responsibility of business is to increase profits, many scholars have started to focus on objectives that improve stakeholder’s welfare. Indeed, recently CSR has become a mainstream business activity and standard strategy for many organizations (Kitzmueller et al., [2012](#2012 Kitzmueller)).\n",
    "<style>\n",
    "    div.cell{\n",
    "        width:100%;\n",
    "        margin-left:1%;\n",
    "        margin-right:auto;\n",
    "    }\n",
    "</style> \n",
    "<div style=\"text-align: justify\"> Many studies have been published on the corporate social responsibility drivers, barriers and purposes (Laudal, [2011](#2011 Laudal); Arevalo and Aravind, [2011](#2011 Arevalo); Graafland and Smid, [2013](#2013 Graafland); Brown et al., [2010](#2010 Brwon)). Ioannou and Serafeim ([2010](#2010 Ioannou)) have discussed that institutions have a significant influence on corporate social performance (CSP). They have found that social and environmental performance is mainly driven by legal and labor market institutions. More recent evidence suggests that there are two types of CSR drivers: external and internal. Internal drivers stand for management commitment and employee involvement, competitive advantage, reputational and environmental risk management, while external drivers refer to government policy and regulation, competitors, customers, suppliers, pressures from investors and influence of non-governmental organizations (NGOs) (Tay et al., [2015](#2015 Tay)).  \n",
    "<style>\n",
    "    div.cell{\n",
    "        width:100%;\n",
    "        margin-left:1%;\n",
    "        margin-right:auto;\n",
    "    }\n",
    "</style> \n",
    "<div style=\"text-align: justify\"> In recent years applied researchers have become increasingly interested in economic freedom as a driver of corporate social responsibility (De Geer et al., [2010](#2010 De); Kinderman, [2012](#2012 Kinderman)). For example, Jackson and Apostolakou ([2010](#2010 Jackson)) have found that in countries with higher economic freedom and more liberal markets corporations score higher on CSR dimensions than in countries with more coordinated economies. In general terms, economic freedom can be defined as the ability for individuals to freely exchange goods and services as long as they do not violate the same rights of others. Gwartney and co-workers ([1996](#1996 Gwartney)) in their publication proposed that the key principles of economic freedom refer to personal choice, voluntary exchange, low barriers to enter the market, freedom to compete, and protection of private property rights. Several well-known economists (Michael Walker, Milton and Rose Friedman) have attempted to define a clear measurement of economic freedom, and currently there is an economic freedom index that evaluates the degree of economic freedom for a large group of countries. The index of economic freedom has been introduced by the Fraser Institute and consists of 5 sub-indicators: small size of the government, legal system and property rights, sound money, freedom to trade internationally and no regulation. The first sub-indicator refers to the size of government spending, consumption, transfers and subsidies, marginal income tax rate, government enterprises and investments. If government spending increases in comparison to households and businesses, economic freedom is reduced because individuals’ decisions are substituted by government decisions (Fraser Institute, [2017](#2017 Fraser)). The second indicator evaluates the legal system of the country by looking at its protection of property rights, judicial independence, impartial courts, legal enforcement of contract, and integrity of the legal system (Gwartney et al., [2015](#2015 Gwartney et)). The third sub-index of economic freedom is expressed by the size of money growth, variation of inflation, inflation rate in most recent years and freedom of individuals to have their own foreign currency bank accounts. The fourth sub-indicator relates to the freedom to exchange goods and services across national borders. The lower regulatory trade barriers and tariffs, the less government controls the movement of capital and people, the higher economic freedom to trade internationally. The fifth and last sub-index evaluates if government regulations restrict and limit the freedom of exchange in credit, labor and product markets (Gwartney et al., [2015](#2015 Gwartney et)). In this thesis I am interested in the overall economic freedom index impact on different dimensions of CSR. As various sub-indicators can affect CSR of the companies differently, I also look which sub-indexes of economic freedom have the greatest impact on companies’ activities in CSR. \n",
    "<style>\n",
    "    div.cell{\n",
    "        width:100%;\n",
    "        margin-left:1%;\n",
    "        margin-right:auto;\n",
    "    }\n",
    "</style> \n",
    "<div style=\"text-align: justify\"> Many attempts have been made to investigate how different aspects of economic freedom influence companies’ decisions in taking activities in CSR. There have been accumulating studies in analyzing the relationship between trade openness and environmental quality (Managi et al., [2009](#2009 Managi); Antweiler et al., [2001](#2001 Antweiler); Frankel and Rose, [2005](#2005 Frankel)). The majority of these studies have found that an increase in trade intensity significantly affects pollution concentrations and reduce greenhouse gas (GHG) emissions. Some researchers (Graafland and Smid, [2004](#2004 Graaflans)) have discussed the relationship between reputation, CSR and market regulation and have suggested that government intervention in the market is still necessary as the reputation mechanism is quite weak to motivate companies to take actions in CSR. They propose that the government could force companies to be more socially and ecologically transparent and that this transparency raises more initiatives for corporations to show a better performance in CSR. The literature shows that different aspects of economic freedom might positively as well as negatively influence companies’ CSR. However, most of the previous studies do not consider how economic freedom affects different dimensions of CSR.\n"
   ]
  },
  {
   "cell_type": "markdown",
   "metadata": {},
   "source": [
    "#### *Economic freedom and environmental dimension of CSR*"
   ]
  },
  {
   "cell_type": "markdown",
   "metadata": {},
   "source": [
    "<div style=\"text-align: justify\"> Corporate social responsibility is a multidimensional concept. Therefore, many researches have used different indicators to measure CSR in their studies (Parede-Gazquez et al., [2015](#2015 Parede)). One of the institutions which provide the annual data of companies’ CSR ratings is Thomson Reuters. They divide CSR into four dimensions: environmental, corporate governance, economic and social. In this study I am interested to examine how economic freedom influences environmental and social performance of the companies. In broad terms, environmental dimension can be defined as a way businesses interact with the environment. It represents how corporations use their management to minimize the negative impact of its operations and services on the environment, how efficiently they use resources and contribute to biodiversity conservation. The score of environmental dimension in the CSR rating system of Thomson Reuters is defined by evaluating three indicators: resource reduction, emission reduction and product innovation. \n",
    "<style>\n",
    "    div.cell{\n",
    "        width:100%;\n",
    "        margin-left:1%;\n",
    "        margin-right:auto;\n",
    "    }\n",
    "</style>\n",
    "<div style=\"text-align: justify\"> There are several reasons why companies’ environmental performance can be negatively as well as positively affected by the level of economic freedom. Carlsson and Lundström ([2000](#2000 Carlsson)) have investigated whether economic freedom has an effect on emissions of CO2. They have assumed that there is a more efficient and competitive market with higher levels of economic freedom. Based on this assumption, it has been hypothesized that in freer countries companies use resources more efficiently and emit less emissions per unit. Moreover, they have suggested that in more competitive markets companies better follow the environmental regulations as there is a higher demand for cleaner products from the consumers. The results have shown that more economic freedom, in terms of smaller government size, decreases the amount of CO2 emissions (Carlsson and Lundström, [2000](#2000 Carlsson)). Stroup ([2003](#2003 Stroup)) states that “Environmental harms occur when there is no protection for individuals and their property against damage, including environmental damage”. The problem is that corporations and individuals execute their functions only when their property rights are secured and well-defined. Otherwise, their rights might be violated by fraud, theft, pollution or other forms of violations. Hence, it seems that stronger protection of property rights might lead to environmental improvement. Kerekes ([2011](#2011 Kerekes)) has supported this idea by showing that clearly defined and enforced property rights reduces the levels of pollution. For instance, he finds that more economic freedom, in terms of more secure property rights, decreases deforestation, increases water quality and improves sanitation facilities. Interestingly, he finds a negative effect of secure property rights on air quality. The reason for this adverse effect might be a mediation effect through increased economic growth. Stronger protection of property rights give individuals more trust and confidence to conserve and use environmental resources more efficiently (direct effect), while it can also increase production and economic development that might lead to increased air pollution (indirect effect).\n",
    "<style>\n",
    "    div.cell{\n",
    "        width:100%;\n",
    "        margin-left:1%;\n",
    "        margin-right:auto;\n",
    "    }\n",
    "</style>\n",
    "<div style=\"text-align: justify\"> Many attempts have been made to show a positive influence of free market institutions on environmental quality (Carlsson and Lundström, [2000](#2000 Carlsson); Stroup, [2003](#2003 Stroup); Herzog and Wood, [2014](#2014 Herzog)). For instance, the study of Antweiler and co-workers ([2001](#2001 Antweiler)) has demonstrated a composition effect in which economic freedom might lead to diffusion of new technologies between countries that could reduce environmental harm. With regard to this composition effect, it might have a positive as well as negative effect on pollution depending on the amount of resources each country has. Aka and Bedia ([2008](#2008 Aka)) have investigated the link between trade, growth and air pollution. It has been found that economic growth measured by GDP per capita increases air pollution while trade intensity is found to reduce environment harm by decreasing CO2 emissions in the short run.  Herzog and Wood ([2014](#2014 Herzog)) have contributed to this topic by demonstrating that countries that are more economically free have much cleaner air quality than those who have lowest levels of economic freedom.\n",
    "<style>\n",
    "    div.cell{\n",
    "        width:100%;\n",
    "        margin-left:1%;\n",
    "        margin-right:auto;\n",
    "    }\n",
    "</style>\n",
    "<div style=\"text-align: justify\"> Several other researchers have, however, demonstrated a negative impact of economic freedom on companies’ CSR.  Taylor and co-workers ([2003](#2003 Taylor)), for example, have investigated the relationship between economic freedom and environmental policy of the companies and found that government regulations increase technological innovation for sulfur dioxide (SO2) control. It has been shown that more stringent regulations foster environmental technology innovations that can reduce the levels of pollution. Shadbolt ([2011](#2011 Shadbolt)) has discussed the role of environmental governance in Australia and proposed that self-regulation in terms of environmental CSR is not sufficient, especially in climate change case. Hence, the government could address companies’ environmental CSR by imposing more stringent regulations. The role of the government in companies’ environmental policy has also been highlighted in OECD  policy brief ([2011](#2011 OECD)) that proposed that taxes on pollution imposed by the government might foster companies to invest more in green technologies and take actions in emission reduction. It states that more pressure from the ministries, investors, and NGOs gives more incentives for companies to start to adopt greenhouse gases (GHG) reduction practices. The underlying reason for this is that direct costs on emissions make the production more expensive and companies seek to reduce it by investing in environmental R&D or creating new environmental technologies that would make the production less expensive. Lyon and Maxwell ([2008](#2008 Lyon)) have shown that both market and nonmarket forces might influence companies’ environmental performance. Corporations might be willing to engage in environmental CSR because of market forces (cost reduction, consumer demand for green product, competition) as well as the pressure of government regulations and threats from NGOs.\n",
    "<style>\n",
    "    div.cell{\n",
    "        width:100%;\n",
    "        margin-left:1%;\n",
    "        margin-right:auto;\n",
    "    }\n",
    "</style>\n",
    "<div style=\"text-align: justify\">Although the literature review shows that economic freedom might both foster and hinder corporations to take actions in environmental protection, most of the studies have suggested a positive influence of economic freedom. This allows us to hypothesize that more economic freedom increases companies’ score on environmental dimension of CSR as well as on emissions reduction indicator.\n",
    "\n",
    "\n"
   ]
  },
  {
   "cell_type": "markdown",
   "metadata": {},
   "source": [
    "#### *Economic freedom and social dimension of CSR*"
   ]
  },
  {
   "cell_type": "markdown",
   "metadata": {},
   "source": [
    "<div style=\"text-align: justify\"> In general terms the social dimension of CSR refers to the relationship between business and society as a whole ([Scilly](#Scilly), n.d). It measures how companies use their best management policy to build a trustful relationship with its workforce, customers and all individuals in society. Jackson and Apostolakou ([2010](#2010 Jackson)) have provided a similar definition, in which the social dimension of CSR refers to “…the strength of human resource development and positive labor standards adopted by firms.” In the CSR rating system of Thomson Reuters, the social dimension of CSR is measured by six indicators: employments quality, health and safety, training and development, diversity and opportunity, community and product responsibility. Social performance has quickly become one of the main goals of any large company’s long-term strategy. Thus, recently scholars have started to discuss how economic freedom can affect companies’ decisions in taking social responsible actions.\n",
    "<style>\n",
    "    div.cell{\n",
    "        width:100%;\n",
    "        margin-left:1%;\n",
    "        margin-right:auto;\n",
    "    }\n",
    "</style>\n",
    "<div style=\"text-align: justify\"> A recent research into the relationship between economic freedom and social performance by Jackson and Apostolakou ([2010](#2010 Jackson)) has investigated the correlation between the so-called coordination index and social CSR score. The coordination index measures variables such as shareholder power, size of stock, dispersion of control, labor turnover and the level and degree of wage coordination. It has been proposed that an increase in the level of coordination reduces companies’ incentives to adopt social CSR practices. Moreover, they also suggest that in liberal market economies companies tends to invest in social CSR more than in coordinated markets. Hence, it is likely that more stringent regulations might have a negative effect on companies’ investment in social responsible actions.\n",
    "<style>\n",
    "    div.cell{\n",
    "        width:100%;\n",
    "        margin-left:1%;\n",
    "        margin-right:auto;\n",
    "    }\n",
    "</style>\n",
    "<div style=\"text-align: justify\"> Another important indicator of economic freedom which is also found to have a significant impact on companies’ entrepreneurship activities is sound money. Bjørnskov and Foss ([2008](#2008 Bjørnskov)) have found that a higher level of freedom, in terms of better access to sound money, positively influences companies’ total activity as well as entrepreneurship. The reason is that the rate of inflation, its standard deviation and future prices are important for long term- investment decisions and affect also the business’ income. Baughn, and co-workers ([2006](#2006 Baughn)) have contributed to this literature by analyzing the link between CSR and economic, political and social conditions in Asian countries and other geographical regions. It has been revealed that there is a strong positive relationship between social CSR practice and the level of economic and political freedom as well as economic development. They argue that economic freedom gives incentives for companies to act more ethically while government intervention might weaken this impact. If government plays a significant role in the market as the controller or regulator, there might be a higher emphasis of getting government support than taking actions that improve stakeholders’ welfare. \n"
   ]
  },
  {
   "cell_type": "markdown",
   "metadata": {},
   "source": [
    "## Hypothesis"
   ]
  },
  {
   "cell_type": "markdown",
   "metadata": {},
   "source": [
    "Based on the literature review, this study proposes the following hypothesis:"
   ]
  },
  {
   "cell_type": "markdown",
   "metadata": {},
   "source": [
    "**H1**: There is a positive relationship between economic freedom and the environmental dimension of CSR. <br>\n",
    "**H2**: There is a positive relationship between economic freedom and the social dimension of CSR.\n"
   ]
  },
  {
   "cell_type": "markdown",
   "metadata": {},
   "source": [
    "## Proposed methodology"
   ]
  },
  {
   "cell_type": "markdown",
   "metadata": {},
   "source": [
    "##### *Data and sources*\n"
   ]
  },
  {
   "cell_type": "markdown",
   "metadata": {},
   "source": [
    "<div style=\"text-align: justify\"> To test whether the variation of economic freedom between countries influences corporate social performance (CSP) of the companies, we follow panel analysis. To assess the impact, we perform an empirical analysis linking economic freedom and aggregate indices of environmental and social dimensions. In order to see which sub-indicators of economic freedom have the greatest impact on companies’ CSR, we also run regressions using all sub-indices of economic freedom. For these purposes, we develop a data base of the economic freedom index, economic freedom sub-indices and aggregate environmental and social indicators.  \n",
    "<style>\n",
    "    div.cell{\n",
    "        width:100%;\n",
    "        margin-left:1%;\n",
    "        margin-right:auto;\n",
    "    }\n",
    "</style>\n",
    "<div style=\"text-align: justify\"> We are using two sources of economic freedom index to see whether the analysis of the relationship between economic freedom and CSR is robust when using alternative indicators for economic freedom. The data for economic freedom we took from the websites of the Heritage Foundation and the Fraser institute. Both sources of the data distinguish economic freedom index into different sub-indexes. The Heritage Foundation groups 12 economic freedom factors into 4 broad categories: rule of law (property rights, government integrity, and judicial effectiveness), government size (government spending, tax burden, fiscal health), regulatory efficiency (business freedom, labor freedom, and monetary freedom), open markets (trade freedom, investment freedom, financial freedom). The Fraser Institute distinguishes economic freedom into 5 sub-indices: size of the government, legal and property rights, sound money, freedom to trade internationally and regulation.\n",
    "The Heritage Foundation is an independent nonprofit policy research and analysis institute which was founded in 1973 Washington, America. Its mission is “to provide empirical research and analyses of public policies based on the principles of free enterprise, limited government, individual freedom, traditional American values, and a strong national defense” (The Heritage Foundation, [2017](#2017 Heritage)). The data from the Heritage Foundation is available for 186 countries over the period 1995 – 2017, while The Fraser Institute provides data for 159 countries over the period 1970-2014. The Fraser Institute is headquartered in Vancouver, Canada, and produces research about government actions in areas such as taxation, health care, education, energy, natural resources and some other including economic freedom (Fraser Institute, [2017](#2017 Fraser))).\n",
    "<style>\n",
    "    div.cell{\n",
    "        width:100%;\n",
    "        margin-left:1%;\n",
    "        margin-right:auto;\n",
    "    }\n",
    "</style>\n",
    "<div style=\"text-align: justify\"> The data of corporate social responsibility we downloaded from ASSET4 ESG (“Environmental, Social, and Governance”). This is the product of a Thomson Reuters business, that provides company level data on 3400 public companies in the world, including some of the largest companies in the US (Thomson Reuters, [2013](#2013 Thomson)). ASSET4 was founded in 2003 and taken over by Thomson Reuters in 2009. It covers major indices such as FTSE 250, S&P 500, NASDAQ 100, DJ STOXX, Russell 1000, S&P ASX 200 and MSCI World indices. As there are several periods of time, the dataset allows using panel technique that controls for fixed effects caused by heterogeneity in companies and countries. The data for aggregate social and environmental dimensions is available for the period 2003-2015 (5043 companies). Although the data for economic freedom index is given for more than 100 countries, we are restricted to include in the analysis 41 countries for which CSR data is fully available (see [Appendix 1](#Appendix 1)). Moreover, for the sample to be more representative, we have excluded the countries which contain data for less than 10 public companies. Finally, in order to have more robust results, we have performed the analysis for the period 2005-2014 as the number of observations starts to significantly increase from 2005.\n",
    "\n",
    "\n"
   ]
  },
  {
   "cell_type": "code",
   "execution_count": 145,
   "metadata": {},
   "outputs": [
    {
     "name": "stdout",
     "output_type": "stream",
     "text": [
      "Requirement already satisfied: linearmodels in c:\\users\\gertruda\\anaconda3\\lib\\site-packages\n",
      "Requirement already satisfied: scipy>=0.18 in c:\\users\\gertruda\\anaconda3\\lib\\site-packages (from linearmodels)\n",
      "Requirement already satisfied: numpy>=1.11 in c:\\users\\gertruda\\anaconda3\\lib\\site-packages (from linearmodels)\n",
      "Requirement already satisfied: patsy in c:\\users\\gertruda\\anaconda3\\lib\\site-packages (from linearmodels)\n",
      "Requirement already satisfied: pandas>=0.19 in c:\\users\\gertruda\\anaconda3\\lib\\site-packages (from linearmodels)\n",
      "Requirement already satisfied: statsmodels>=0.8 in c:\\users\\gertruda\\anaconda3\\lib\\site-packages (from linearmodels)\n",
      "Requirement already satisfied: six in c:\\users\\gertruda\\anaconda3\\lib\\site-packages (from patsy->linearmodels)\n",
      "Requirement already satisfied: python-dateutil>=2 in c:\\users\\gertruda\\anaconda3\\lib\\site-packages (from pandas>=0.19->linearmodels)\n",
      "Requirement already satisfied: pytz>=2011k in c:\\users\\gertruda\\anaconda3\\lib\\site-packages (from pandas>=0.19->linearmodels)\n"
     ]
    }
   ],
   "source": [
    "!pip install linearmodels"
   ]
  },
  {
   "cell_type": "code",
   "execution_count": 146,
   "metadata": {
    "collapsed": true
   },
   "outputs": [],
   "source": [
    "#Imported libraries\n",
    "import os\n",
    "import numpy as np\n",
    "import pandas as pd\n",
    "import matplotlib\n",
    "import matplotlib.pyplot as plt\n",
    "%matplotlib inline\n",
    "matplotlib.style.use(\"ggplot\")\n",
    "from linearmodels import PanelOLS\n",
    "from scipy.stats import pearsonr\n",
    "from IPython.display import Latex\n",
    "from scipy import stats\n",
    "from scipy.stats.mstats import zscore"
   ]
  },
  {
   "cell_type": "code",
   "execution_count": 147,
   "metadata": {
    "collapsed": true
   },
   "outputs": [],
   "source": [
    "#imported data\n",
    "file = 'EF.xlsx'\n",
    "data = pd.read_excel(file)"
   ]
  },
  {
   "cell_type": "code",
   "execution_count": 148,
   "metadata": {},
   "outputs": [
    {
     "data": {
      "text/html": [
       "<div>\n",
       "<style>\n",
       "    .dataframe thead tr:only-child th {\n",
       "        text-align: right;\n",
       "    }\n",
       "\n",
       "    .dataframe thead th {\n",
       "        text-align: left;\n",
       "    }\n",
       "\n",
       "    .dataframe tbody tr th {\n",
       "        vertical-align: top;\n",
       "    }\n",
       "</style>\n",
       "<table border=\"1\" class=\"dataframe\">\n",
       "  <thead>\n",
       "    <tr style=\"text-align: right;\">\n",
       "      <th></th>\n",
       "      <th>unitid</th>\n",
       "      <th>time</th>\n",
       "      <th>name</th>\n",
       "      <th>isin</th>\n",
       "      <th>econseccode</th>\n",
       "      <th>econsecdescr</th>\n",
       "      <th>type</th>\n",
       "      <th>stocktype</th>\n",
       "      <th>geogmnem</th>\n",
       "      <th>geogdescr</th>\n",
       "      <th>...</th>\n",
       "      <th>EF4H</th>\n",
       "      <th>EF5H</th>\n",
       "      <th>Netsales</th>\n",
       "      <th>totalassets</th>\n",
       "      <th>grossinc</th>\n",
       "      <th>lnNS</th>\n",
       "      <th>GDP</th>\n",
       "      <th>infl</th>\n",
       "      <th>politr</th>\n",
       "      <th>civil</th>\n",
       "    </tr>\n",
       "  </thead>\n",
       "  <tbody>\n",
       "    <tr>\n",
       "      <th>0</th>\n",
       "      <td>9</td>\n",
       "      <td>2005</td>\n",
       "      <td>ABACUS PROPERTY GROUP</td>\n",
       "      <td>AU000000ABP9</td>\n",
       "      <td>55.0</td>\n",
       "      <td>Financials</td>\n",
       "      <td>26502C</td>\n",
       "      <td>EQ</td>\n",
       "      <td>AU</td>\n",
       "      <td>AUSTRALIA</td>\n",
       "      <td>...</td>\n",
       "      <td>79.07</td>\n",
       "      <td>85.4</td>\n",
       "      <td>58354.0</td>\n",
       "      <td>592906.0</td>\n",
       "      <td>44031.0</td>\n",
       "      <td>10.9743</td>\n",
       "      <td>38854.837201</td>\n",
       "      <td>3.710270</td>\n",
       "      <td>1.0</td>\n",
       "      <td>1.0</td>\n",
       "    </tr>\n",
       "    <tr>\n",
       "      <th>1</th>\n",
       "      <td>9</td>\n",
       "      <td>2006</td>\n",
       "      <td>ABACUS PROPERTY GROUP</td>\n",
       "      <td>AU000000ABP9</td>\n",
       "      <td>55.0</td>\n",
       "      <td>Financials</td>\n",
       "      <td>26502C</td>\n",
       "      <td>EQ</td>\n",
       "      <td>AU</td>\n",
       "      <td>AUSTRALIA</td>\n",
       "      <td>...</td>\n",
       "      <td>79.13</td>\n",
       "      <td>88.7</td>\n",
       "      <td>94288.0</td>\n",
       "      <td>1200000.0</td>\n",
       "      <td>69354.0</td>\n",
       "      <td>11.4541</td>\n",
       "      <td>39426.020402</td>\n",
       "      <td>5.066736</td>\n",
       "      <td>1.0</td>\n",
       "      <td>1.0</td>\n",
       "    </tr>\n",
       "    <tr>\n",
       "      <th>2</th>\n",
       "      <td>9</td>\n",
       "      <td>2007</td>\n",
       "      <td>ABACUS PROPERTY GROUP</td>\n",
       "      <td>AU000000ABP9</td>\n",
       "      <td>55.0</td>\n",
       "      <td>Financials</td>\n",
       "      <td>26502C</td>\n",
       "      <td>EQ</td>\n",
       "      <td>AU</td>\n",
       "      <td>AUSTRALIA</td>\n",
       "      <td>...</td>\n",
       "      <td>81.27</td>\n",
       "      <td>91.4</td>\n",
       "      <td>107609.0</td>\n",
       "      <td>1300000.0</td>\n",
       "      <td>75067.0</td>\n",
       "      <td>11.5863</td>\n",
       "      <td>40649.664217</td>\n",
       "      <td>4.977313</td>\n",
       "      <td>1.0</td>\n",
       "      <td>1.0</td>\n",
       "    </tr>\n",
       "    <tr>\n",
       "      <th>3</th>\n",
       "      <td>9</td>\n",
       "      <td>2008</td>\n",
       "      <td>ABACUS PROPERTY GROUP</td>\n",
       "      <td>AU000000ABP9</td>\n",
       "      <td>55.0</td>\n",
       "      <td>Financials</td>\n",
       "      <td>26502C</td>\n",
       "      <td>EQ</td>\n",
       "      <td>AU</td>\n",
       "      <td>AUSTRALIA</td>\n",
       "      <td>...</td>\n",
       "      <td>84.60</td>\n",
       "      <td>92.9</td>\n",
       "      <td>134631.0</td>\n",
       "      <td>1600000.0</td>\n",
       "      <td>99001.0</td>\n",
       "      <td>11.8103</td>\n",
       "      <td>41316.600054</td>\n",
       "      <td>4.537812</td>\n",
       "      <td>1.0</td>\n",
       "      <td>1.0</td>\n",
       "    </tr>\n",
       "    <tr>\n",
       "      <th>4</th>\n",
       "      <td>9</td>\n",
       "      <td>2009</td>\n",
       "      <td>ABACUS PROPERTY GROUP</td>\n",
       "      <td>AU000000ABP9</td>\n",
       "      <td>55.0</td>\n",
       "      <td>Financials</td>\n",
       "      <td>26502C</td>\n",
       "      <td>EQ</td>\n",
       "      <td>AU</td>\n",
       "      <td>AUSTRALIA</td>\n",
       "      <td>...</td>\n",
       "      <td>84.93</td>\n",
       "      <td>92.6</td>\n",
       "      <td>134821.0</td>\n",
       "      <td>1400000.0</td>\n",
       "      <td>109639.0</td>\n",
       "      <td>11.8117</td>\n",
       "      <td>41207.128995</td>\n",
       "      <td>4.926168</td>\n",
       "      <td>1.0</td>\n",
       "      <td>1.0</td>\n",
       "    </tr>\n",
       "  </tbody>\n",
       "</table>\n",
       "<p>5 rows × 59 columns</p>\n",
       "</div>"
      ],
      "text/plain": [
       "   unitid  time                   name          isin  econseccode  \\\n",
       "0       9  2005  ABACUS PROPERTY GROUP  AU000000ABP9         55.0   \n",
       "1       9  2006  ABACUS PROPERTY GROUP  AU000000ABP9         55.0   \n",
       "2       9  2007  ABACUS PROPERTY GROUP  AU000000ABP9         55.0   \n",
       "3       9  2008  ABACUS PROPERTY GROUP  AU000000ABP9         55.0   \n",
       "4       9  2009  ABACUS PROPERTY GROUP  AU000000ABP9         55.0   \n",
       "\n",
       "  econsecdescr    type stocktype geogmnem  geogdescr  ...    EF4H  EF5H  \\\n",
       "0   Financials  26502C        EQ       AU  AUSTRALIA  ...   79.07  85.4   \n",
       "1   Financials  26502C        EQ       AU  AUSTRALIA  ...   79.13  88.7   \n",
       "2   Financials  26502C        EQ       AU  AUSTRALIA  ...   81.27  91.4   \n",
       "3   Financials  26502C        EQ       AU  AUSTRALIA  ...   84.60  92.9   \n",
       "4   Financials  26502C        EQ       AU  AUSTRALIA  ...   84.93  92.6   \n",
       "\n",
       "   Netsales  totalassets  grossinc     lnNS           GDP      infl  politr  \\\n",
       "0   58354.0     592906.0   44031.0  10.9743  38854.837201  3.710270     1.0   \n",
       "1   94288.0    1200000.0   69354.0  11.4541  39426.020402  5.066736     1.0   \n",
       "2  107609.0    1300000.0   75067.0  11.5863  40649.664217  4.977313     1.0   \n",
       "3  134631.0    1600000.0   99001.0  11.8103  41316.600054  4.537812     1.0   \n",
       "4  134821.0    1400000.0  109639.0  11.8117  41207.128995  4.926168     1.0   \n",
       "\n",
       "  civil  \n",
       "0   1.0  \n",
       "1   1.0  \n",
       "2   1.0  \n",
       "3   1.0  \n",
       "4   1.0  \n",
       "\n",
       "[5 rows x 59 columns]"
      ]
     },
     "execution_count": 148,
     "metadata": {},
     "output_type": "execute_result"
    }
   ],
   "source": [
    "data.head()"
   ]
  },
  {
   "cell_type": "code",
   "execution_count": 149,
   "metadata": {
    "collapsed": true
   },
   "outputs": [],
   "source": [
    "#variables of interest\n",
    "df= pd.DataFrame(data,\\\n",
    "                  columns =['EFF','EF1H','EF2H','EF3H','EF4H','EF5H','EFH','EF1F','EF2F','EF3F','EF4F','EF5F','socscore','envscore','roa','ltdtcap','lnNS','time','unitid','geogdescr'])"
   ]
  },
  {
   "cell_type": "code",
   "execution_count": 150,
   "metadata": {},
   "outputs": [
    {
     "name": "stdout",
     "output_type": "stream",
     "text": [
      "EFF           object\n",
      "EF1H         float64\n",
      "EF2H         float64\n",
      "EF3H         float64\n",
      "EF4H         float64\n",
      "EF5H         float64\n",
      "EFH          float64\n",
      "EF1F          object\n",
      "EF2F          object\n",
      "EF3F          object\n",
      "EF4F          object\n",
      "EF5F          object\n",
      "socscore     float64\n",
      "envscore     float64\n",
      "roa          float64\n",
      "ltdtcap      float64\n",
      "lnNS          object\n",
      "time           int64\n",
      "unitid         int64\n",
      "geogdescr     object\n",
      "dtype: object\n"
     ]
    }
   ],
   "source": [
    "#data type\n",
    "print(df.dtypes)"
   ]
  },
  {
   "cell_type": "code",
   "execution_count": 151,
   "metadata": {
    "collapsed": true
   },
   "outputs": [],
   "source": [
    "#converting data to numeric\n",
    "df.EFF = pd.to_numeric(data.EFH, errors = 'coerce')\n",
    "df.EF1F = pd.to_numeric(data.EFH, errors = 'coerce')\n",
    "df.EF2F = pd.to_numeric(data.EFH, errors = 'coerce')\n",
    "df.EF3F = pd.to_numeric(data.EFH, errors = 'coerce')\n",
    "df.EF4F = pd.to_numeric(data.EFH, errors = 'coerce')\n",
    "df.EF5F = pd.to_numeric(data.EFH, errors = 'coerce')\n",
    "df.lnNS = pd.to_numeric(data.lnNS, errors = 'coerce')"
   ]
  },
  {
   "cell_type": "code",
   "execution_count": 152,
   "metadata": {},
   "outputs": [
    {
     "name": "stdout",
     "output_type": "stream",
     "text": [
      "EFF          float64\n",
      "EF1H         float64\n",
      "EF2H         float64\n",
      "EF3H         float64\n",
      "EF4H         float64\n",
      "EF5H         float64\n",
      "EFH          float64\n",
      "EF1F         float64\n",
      "EF2F         float64\n",
      "EF3F         float64\n",
      "EF4F         float64\n",
      "EF5F         float64\n",
      "socscore     float64\n",
      "envscore     float64\n",
      "roa          float64\n",
      "ltdtcap      float64\n",
      "lnNS         float64\n",
      "time           int64\n",
      "unitid         int64\n",
      "geogdescr     object\n",
      "dtype: object\n"
     ]
    }
   ],
   "source": [
    "#data type\n",
    "print(df.dtypes)"
   ]
  },
  {
   "cell_type": "code",
   "execution_count": 153,
   "metadata": {},
   "outputs": [
    {
     "data": {
      "text/html": [
       "<div>\n",
       "<style>\n",
       "    .dataframe thead tr:only-child th {\n",
       "        text-align: right;\n",
       "    }\n",
       "\n",
       "    .dataframe thead th {\n",
       "        text-align: left;\n",
       "    }\n",
       "\n",
       "    .dataframe tbody tr th {\n",
       "        vertical-align: top;\n",
       "    }\n",
       "</style>\n",
       "<table border=\"1\" class=\"dataframe\">\n",
       "  <thead>\n",
       "    <tr style=\"text-align: right;\">\n",
       "      <th></th>\n",
       "      <th>EFF</th>\n",
       "      <th>EF1H</th>\n",
       "      <th>EF2H</th>\n",
       "      <th>EF3H</th>\n",
       "      <th>EF4H</th>\n",
       "      <th>EF5H</th>\n",
       "      <th>EFH</th>\n",
       "      <th>EF1F</th>\n",
       "      <th>EF2F</th>\n",
       "      <th>EF3F</th>\n",
       "      <th>EF4F</th>\n",
       "      <th>EF5F</th>\n",
       "      <th>socscore</th>\n",
       "      <th>envscore</th>\n",
       "      <th>roa</th>\n",
       "      <th>ltdtcap</th>\n",
       "      <th>lnNS</th>\n",
       "      <th>time</th>\n",
       "      <th>unitid</th>\n",
       "    </tr>\n",
       "  </thead>\n",
       "  <tbody>\n",
       "    <tr>\n",
       "      <th>count</th>\n",
       "      <td>55132.000000</td>\n",
       "      <td>55132.000000</td>\n",
       "      <td>55132.000000</td>\n",
       "      <td>55132.000000</td>\n",
       "      <td>55132.000000</td>\n",
       "      <td>55132.000000</td>\n",
       "      <td>55132.000000</td>\n",
       "      <td>55132.000000</td>\n",
       "      <td>55132.000000</td>\n",
       "      <td>55132.000000</td>\n",
       "      <td>55132.000000</td>\n",
       "      <td>55132.000000</td>\n",
       "      <td>30019.000000</td>\n",
       "      <td>30019.000000</td>\n",
       "      <td>49481.000000</td>\n",
       "      <td>51000.000000</td>\n",
       "      <td>50267.000000</td>\n",
       "      <td>55132.000000</td>\n",
       "      <td>55132.000000</td>\n",
       "    </tr>\n",
       "    <tr>\n",
       "      <th>mean</th>\n",
       "      <td>74.807868</td>\n",
       "      <td>62.904619</td>\n",
       "      <td>75.883371</td>\n",
       "      <td>80.938798</td>\n",
       "      <td>75.135529</td>\n",
       "      <td>83.132615</td>\n",
       "      <td>74.807868</td>\n",
       "      <td>74.807868</td>\n",
       "      <td>74.807868</td>\n",
       "      <td>74.807868</td>\n",
       "      <td>74.807868</td>\n",
       "      <td>74.807868</td>\n",
       "      <td>50.428886</td>\n",
       "      <td>50.155013</td>\n",
       "      <td>5.435628</td>\n",
       "      <td>30.857953</td>\n",
       "      <td>15.294143</td>\n",
       "      <td>2010.000000</td>\n",
       "      <td>2589.382881</td>\n",
       "    </tr>\n",
       "    <tr>\n",
       "      <th>std</th>\n",
       "      <td>8.399226</td>\n",
       "      <td>12.821972</td>\n",
       "      <td>15.971688</td>\n",
       "      <td>5.698135</td>\n",
       "      <td>11.360273</td>\n",
       "      <td>12.701346</td>\n",
       "      <td>8.399226</td>\n",
       "      <td>8.399226</td>\n",
       "      <td>8.399226</td>\n",
       "      <td>8.399226</td>\n",
       "      <td>8.399226</td>\n",
       "      <td>8.399226</td>\n",
       "      <td>31.095294</td>\n",
       "      <td>31.991286</td>\n",
       "      <td>31.902185</td>\n",
       "      <td>142.952791</td>\n",
       "      <td>2.902098</td>\n",
       "      <td>3.162306</td>\n",
       "      <td>1500.876286</td>\n",
       "    </tr>\n",
       "    <tr>\n",
       "      <th>min</th>\n",
       "      <td>49.800000</td>\n",
       "      <td>16.850000</td>\n",
       "      <td>23.000000</td>\n",
       "      <td>53.800000</td>\n",
       "      <td>34.670000</td>\n",
       "      <td>46.000000</td>\n",
       "      <td>49.800000</td>\n",
       "      <td>49.800000</td>\n",
       "      <td>49.800000</td>\n",
       "      <td>49.800000</td>\n",
       "      <td>49.800000</td>\n",
       "      <td>49.800000</td>\n",
       "      <td>3.410000</td>\n",
       "      <td>8.290000</td>\n",
       "      <td>-1110.950000</td>\n",
       "      <td>-10053.800000</td>\n",
       "      <td>0.000000</td>\n",
       "      <td>2005.000000</td>\n",
       "      <td>1.000000</td>\n",
       "    </tr>\n",
       "    <tr>\n",
       "      <th>25%</th>\n",
       "      <td>71.800000</td>\n",
       "      <td>58.250000</td>\n",
       "      <td>76.000000</td>\n",
       "      <td>76.700000</td>\n",
       "      <td>67.730000</td>\n",
       "      <td>75.100000</td>\n",
       "      <td>71.800000</td>\n",
       "      <td>71.800000</td>\n",
       "      <td>71.800000</td>\n",
       "      <td>71.800000</td>\n",
       "      <td>71.800000</td>\n",
       "      <td>71.800000</td>\n",
       "      <td>20.100000</td>\n",
       "      <td>17.210000</td>\n",
       "      <td>1.980000</td>\n",
       "      <td>7.590000</td>\n",
       "      <td>13.533305</td>\n",
       "      <td>2007.000000</td>\n",
       "      <td>1277.750000</td>\n",
       "    </tr>\n",
       "    <tr>\n",
       "      <th>50%</th>\n",
       "      <td>76.300000</td>\n",
       "      <td>63.000000</td>\n",
       "      <td>81.000000</td>\n",
       "      <td>81.500000</td>\n",
       "      <td>77.300000</td>\n",
       "      <td>87.850000</td>\n",
       "      <td>76.300000</td>\n",
       "      <td>76.300000</td>\n",
       "      <td>76.300000</td>\n",
       "      <td>76.300000</td>\n",
       "      <td>76.300000</td>\n",
       "      <td>76.300000</td>\n",
       "      <td>49.680000</td>\n",
       "      <td>47.740000</td>\n",
       "      <td>5.440000</td>\n",
       "      <td>27.065000</td>\n",
       "      <td>15.068274</td>\n",
       "      <td>2010.000000</td>\n",
       "      <td>2589.500000</td>\n",
       "    </tr>\n",
       "    <tr>\n",
       "      <th>75%</th>\n",
       "      <td>80.700000</td>\n",
       "      <td>65.000000</td>\n",
       "      <td>87.000000</td>\n",
       "      <td>85.000000</td>\n",
       "      <td>82.270000</td>\n",
       "      <td>93.200000</td>\n",
       "      <td>80.700000</td>\n",
       "      <td>80.700000</td>\n",
       "      <td>80.700000</td>\n",
       "      <td>80.700000</td>\n",
       "      <td>80.700000</td>\n",
       "      <td>80.700000</td>\n",
       "      <td>81.550000</td>\n",
       "      <td>84.160000</td>\n",
       "      <td>9.810000</td>\n",
       "      <td>45.640000</td>\n",
       "      <td>16.993564</td>\n",
       "      <td>2013.000000</td>\n",
       "      <td>3890.250000</td>\n",
       "    </tr>\n",
       "    <tr>\n",
       "      <th>max</th>\n",
       "      <td>90.100000</td>\n",
       "      <td>93.350000</td>\n",
       "      <td>95.000000</td>\n",
       "      <td>94.300000</td>\n",
       "      <td>97.670000</td>\n",
       "      <td>99.950000</td>\n",
       "      <td>90.100000</td>\n",
       "      <td>90.100000</td>\n",
       "      <td>90.100000</td>\n",
       "      <td>90.100000</td>\n",
       "      <td>90.100000</td>\n",
       "      <td>90.100000</td>\n",
       "      <td>98.930000</td>\n",
       "      <td>97.500000</td>\n",
       "      <td>5771.160000</td>\n",
       "      <td>17150.000000</td>\n",
       "      <td>26.021583</td>\n",
       "      <td>2015.000000</td>\n",
       "      <td>5168.000000</td>\n",
       "    </tr>\n",
       "  </tbody>\n",
       "</table>\n",
       "</div>"
      ],
      "text/plain": [
       "                EFF          EF1H          EF2H          EF3H          EF4H  \\\n",
       "count  55132.000000  55132.000000  55132.000000  55132.000000  55132.000000   \n",
       "mean      74.807868     62.904619     75.883371     80.938798     75.135529   \n",
       "std        8.399226     12.821972     15.971688      5.698135     11.360273   \n",
       "min       49.800000     16.850000     23.000000     53.800000     34.670000   \n",
       "25%       71.800000     58.250000     76.000000     76.700000     67.730000   \n",
       "50%       76.300000     63.000000     81.000000     81.500000     77.300000   \n",
       "75%       80.700000     65.000000     87.000000     85.000000     82.270000   \n",
       "max       90.100000     93.350000     95.000000     94.300000     97.670000   \n",
       "\n",
       "               EF5H           EFH          EF1F          EF2F          EF3F  \\\n",
       "count  55132.000000  55132.000000  55132.000000  55132.000000  55132.000000   \n",
       "mean      83.132615     74.807868     74.807868     74.807868     74.807868   \n",
       "std       12.701346      8.399226      8.399226      8.399226      8.399226   \n",
       "min       46.000000     49.800000     49.800000     49.800000     49.800000   \n",
       "25%       75.100000     71.800000     71.800000     71.800000     71.800000   \n",
       "50%       87.850000     76.300000     76.300000     76.300000     76.300000   \n",
       "75%       93.200000     80.700000     80.700000     80.700000     80.700000   \n",
       "max       99.950000     90.100000     90.100000     90.100000     90.100000   \n",
       "\n",
       "               EF4F          EF5F      socscore      envscore           roa  \\\n",
       "count  55132.000000  55132.000000  30019.000000  30019.000000  49481.000000   \n",
       "mean      74.807868     74.807868     50.428886     50.155013      5.435628   \n",
       "std        8.399226      8.399226     31.095294     31.991286     31.902185   \n",
       "min       49.800000     49.800000      3.410000      8.290000  -1110.950000   \n",
       "25%       71.800000     71.800000     20.100000     17.210000      1.980000   \n",
       "50%       76.300000     76.300000     49.680000     47.740000      5.440000   \n",
       "75%       80.700000     80.700000     81.550000     84.160000      9.810000   \n",
       "max       90.100000     90.100000     98.930000     97.500000   5771.160000   \n",
       "\n",
       "            ltdtcap          lnNS          time        unitid  \n",
       "count  51000.000000  50267.000000  55132.000000  55132.000000  \n",
       "mean      30.857953     15.294143   2010.000000   2589.382881  \n",
       "std      142.952791      2.902098      3.162306   1500.876286  \n",
       "min   -10053.800000      0.000000   2005.000000      1.000000  \n",
       "25%        7.590000     13.533305   2007.000000   1277.750000  \n",
       "50%       27.065000     15.068274   2010.000000   2589.500000  \n",
       "75%       45.640000     16.993564   2013.000000   3890.250000  \n",
       "max    17150.000000     26.021583   2015.000000   5168.000000  "
      ]
     },
     "execution_count": 153,
     "metadata": {},
     "output_type": "execute_result"
    }
   ],
   "source": [
    "#finding descriptive statistics of the data\n",
    "df.describe()"
   ]
  },
  {
   "cell_type": "markdown",
   "metadata": {},
   "source": [
    "<div style=\"text-align: center\"> <a name=\"Table 1\"></a>**Table 1**    Data sources and descriptive statistics for the period 2005-2014"
   ]
  },
  {
   "cell_type": "markdown",
   "metadata": {},
   "source": [
    "|<div style=\"text-align: left\">The names of the indices|<div style=\"text-align: center\">Number of <br> countries|<div style=\"text-align: center\">Symbol|<div style=\"text-align: center\">Source|<div style=\"text-align: center\">Mean|<div style=\"text-align: center\">Min|<div style=\"text-align: center\">Max|<div style=\"text-align: center\">SD|\n",
    "|--------------------------------------------------------------------------|\n",
    "|<div style=\"text-align: left\">Social dimension of CSR|<div style=\"text-align: center\">41|<div style=\"text-align: center\">socscore|<div style=\"text-align: center\">ASSET4$^{1}$ |50.43|3.41|98.93|31.10|\n",
    "|<div style=\"text-align: left\">Environmental dimension of CSR|<div style=\"text-align: center\">41|<div style=\"text-align: center\">envscore|<div style=\"text-align: center\">ASSET4|50.16|8.29|97.50|31.99|\n",
    "|<div style=\"text-align: left\">Return of assets|<div style=\"text-align: center\">41|<div style=\"text-align: center\">roa|<div style=\"text-align: center\">ASSET4|5.44|-1110.95|5771.16|31.90|\n",
    "|<div style=\"text-align: left\">Long-term debt as percentage of total capital|<div style=\"text-align: center\">41|<div style=\"text-align: center\">ltdtcap|<div style=\"text-align: center\">ASSET4|30.86|-10053.80|17150.00|142.95|\n",
    "|<div style=\"text-align: left\">Natural logarithm of net sales|<div style=\"text-align: center\">41|<div style=\"text-align: center\">lnNS|<div style=\"text-align: center\">ASSET4|15.29|0.00|26.02|2.90|\n",
    "|<div style=\"text-align: left\">Small size of government|<div style=\"text-align: center\">41|<div style=\"text-align: center\">EF1F|<div style=\"text-align: center\">Fraser Institute$^{2}$|6.44|2.92|9.41|1.08|\n",
    "|<div style=\"text-align: left\">Legal system & property rights|<div style=\"text-align: center\">41|<div style=\"text-align: center\">EF2F|<div style=\"text-align: center\">Fraser Institute|7.32|4.04|9.90|0.90|\n",
    "|<div style=\"text-align: left\">Sound money|<div style=\"text-align: center\">41|<div style=\"text-align: center\">EF3F|<div style=\"text-align: center\">Fraser Institute|9.30|4.84|9.89|0.72|\n",
    "|<div style=\"text-align: left\">Freedom to trade internationally|<div style=\"text-align: center\">41|<div style=\"text-align: center\">EF4F|<div style=\"text-align: center\">Fraser Institute|7.77|5.08|9.60|0.66|\n",
    "|<div style=\"text-align: left\">No regulation|<div style=\"text-align: center\">41|<div style=\"text-align: center\">EF5F|<div style=\"text-align: center\">Fraser Institute|7.85|4.34|9.10|0.83|\n",
    "|<div style=\"text-align: left\">Small government size|<div style=\"text-align: center\">41|<div style=\"text-align: center\">EF1H|<div style=\"text-align: center\">Heritage Foundation$^{3}$|62.90|16.85|93.35|12.82|\n",
    "|<div style=\"text-align: left\">Rule of law|<div style=\"text-align: center\">41|<div style=\"text-align: center\">EF2H|<div style=\"text-align: center\">Heritage Foundation|75.88|23.00|95.00|15.97|\n",
    "|<div style=\"text-align: left\">Monetary freedom|<div style=\"text-align: center\">41|<div style=\"text-align: center\">EF3H|<div style=\"text-align: center\">Heritage Foundation|80.94|53.80|94.30|5.70|\n",
    "|<div style=\"text-align: left\">Market openess|<div style=\"text-align: center\">41|<div style=\"text-align: center\">EF4H|<div style=\"text-align: center\">Heritage Foundation|75.14|34.67|97.67|11.36|\n",
    "|<div style=\"text-align: left\">Regulatory efficency|<div style=\"text-align: center\">41|<div style=\"text-align: center\">EF2H|<div style=\"text-align: center\">Heritage Foundation|83.13|46.00|99.95|12.70|\n"
   ]
  },
  {
   "cell_type": "markdown",
   "metadata": {
    "collapsed": true
   },
   "source": [
    "<div style=\"text-align: justify\"> (1)Source: Datastream. Variables: ENVSCORE (environmental score), ENER (emission reduction), SOCSCORE (social score), SOHS (workforce health and safety). <br>\n",
    "<div style=\"text-align: justify\"> (2)Source:https://www.fraserinstitute.org/economic-freedom/dataset?page=dataset&min-year=2&max-year=0&filter=0&most-free=1&quartile2=1&quartile3=1&least-free=1&year=2014 <br>\n",
    "<div style=\"text-align: justify\"> (3)\tSource: http://www.heritage.org/index/explore \n",
    "\n"
   ]
  },
  {
   "cell_type": "markdown",
   "metadata": {},
   "source": [
    "#### *Model for panel analysis*"
   ]
  },
  {
   "cell_type": "markdown",
   "metadata": {},
   "source": [
    "<div style=\"text-align: justify\"> Our empirical analysis starts from calculating a Pearson correlation coefficient to obtain which indicators are related. Next, we analyze the relationship between economic freedom and companies’ corporate social responsibility. We use panel analysis to evaluate how much a company’s environmental or social CSR score increases or decreases when the economic freedom indicator varies across time for a given country. The equation you can see below (1), where $CSR_i,_j$ is one of the dimensions or indicators of $CSR$ for company $i$ from country $j$, $EF_j$ is the index of economic freedom of country $j$, $X_i,_j,_k$ stands for control variable $k$ and $f_i$  denotes fixed effects of company $i$. As control variables we use return on assets, long-term debt and natural logarithm of net sales. As equations combine micro variables with macro variables, we use multi-level regression analysis.\n"
   ]
  },
  {
   "cell_type": "markdown",
   "metadata": {},
   "source": [
    "(1) $CSR_i,_j = a_iEF_j + \\sum d_kX_i,_j,_k + f_i$"
   ]
  },
  {
   "cell_type": "markdown",
   "metadata": {},
   "source": [
    "Moreover, we perform empirical analysis using the economic freedom sub-indicators instead of the aggregate economic freedom index. The equation can seen below (2), which is the same as equation (1) but instead of economic freedom variable we have the sum of economic freedom sub-indicators."
   ]
  },
  {
   "cell_type": "markdown",
   "metadata": {},
   "source": [
    "(2) $CSR_i,_j = \\sum b_iEF_j + \\sum e_kZ_i,_j,_k + g_i$"
   ]
  },
  {
   "cell_type": "markdown",
   "metadata": {},
   "source": [
    "## Analysis "
   ]
  },
  {
   "cell_type": "markdown",
   "metadata": {},
   "source": [
    "#### *Correlation*"
   ]
  },
  {
   "cell_type": "code",
   "execution_count": 154,
   "metadata": {
    "collapsed": true
   },
   "outputs": [],
   "source": [
    "#Dropping missing values"
   ]
  },
  {
   "cell_type": "code",
   "execution_count": 155,
   "metadata": {},
   "outputs": [
    {
     "data": {
      "text/plain": [
       "64896"
      ]
     },
     "execution_count": 155,
     "metadata": {},
     "output_type": "execute_result"
    }
   ],
   "source": [
    "sum(df.isnull().values.ravel())"
   ]
  },
  {
   "cell_type": "code",
   "execution_count": 156,
   "metadata": {
    "collapsed": true
   },
   "outputs": [],
   "source": [
    "df = df.dropna()"
   ]
  },
  {
   "cell_type": "code",
   "execution_count": 157,
   "metadata": {},
   "outputs": [
    {
     "data": {
      "text/plain": [
       "0"
      ]
     },
     "execution_count": 157,
     "metadata": {},
     "output_type": "execute_result"
    }
   ],
   "source": [
    "sum(df.isnull().values.ravel())"
   ]
  },
  {
   "cell_type": "code",
   "execution_count": 158,
   "metadata": {},
   "outputs": [
    {
     "name": "stdout",
     "output_type": "stream",
     "text": [
      "r -0.213327014694\n",
      "p 1.52991364898e-297\n"
     ]
    }
   ],
   "source": [
    "#Pearson correlation coefficient\n",
    "x = df.envscore\n",
    "y = df.EF1H\n",
    "r,p = pearsonr(x,y)\n",
    "print (\"r\", r)\n",
    "print (\"p\", p)"
   ]
  },
  {
   "cell_type": "code",
   "execution_count": 159,
   "metadata": {},
   "outputs": [
    {
     "name": "stdout",
     "output_type": "stream",
     "text": [
      "r 0.0190889552299\n",
      "p 0.00110925476662\n"
     ]
    }
   ],
   "source": [
    "x = df.envscore\n",
    "y = df.EF2H\n",
    "r,p = pearsonr(x,y)\n",
    "print (\"r\", r)\n",
    "print (\"p\", p)"
   ]
  },
  {
   "cell_type": "code",
   "execution_count": 160,
   "metadata": {},
   "outputs": [
    {
     "name": "stdout",
     "output_type": "stream",
     "text": [
      "r 0.0596132357048\n",
      "p 2.13686275394e-24\n"
     ]
    }
   ],
   "source": [
    "x = df.envscore\n",
    "y = df.EF3H\n",
    "r,p = pearsonr(x,y)\n",
    "print (\"r\", r)\n",
    "print (\"p\", p)"
   ]
  },
  {
   "cell_type": "code",
   "execution_count": 161,
   "metadata": {},
   "outputs": [
    {
     "name": "stdout",
     "output_type": "stream",
     "text": [
      "r -0.0621711132644\n",
      "p 2.14025605839e-26\n"
     ]
    }
   ],
   "source": [
    "x = df.envscore\n",
    "y = df.EF4H\n",
    "r,p = pearsonr(x,y)\n",
    "print (\"r\", r)\n",
    "print (\"p\", p)"
   ]
  },
  {
   "cell_type": "code",
   "execution_count": 162,
   "metadata": {},
   "outputs": [
    {
     "name": "stdout",
     "output_type": "stream",
     "text": [
      "r -0.163810665614\n",
      "p 1.21470373437e-174\n"
     ]
    }
   ],
   "source": [
    "x = df.envscore\n",
    "y = df.EF5H\n",
    "r,p = pearsonr(x,y)\n",
    "print (\"r\", r)\n",
    "print (\"p\", p)"
   ]
  },
  {
   "cell_type": "code",
   "execution_count": 163,
   "metadata": {},
   "outputs": [
    {
     "name": "stdout",
     "output_type": "stream",
     "text": [
      "r -0.208678101736\n",
      "p 1.60679314522e-284\n"
     ]
    }
   ],
   "source": [
    "x = df.socscore\n",
    "y = df.EF1H\n",
    "r,p = pearsonr(x,y)\n",
    "print (\"r\", r)\n",
    "print (\"p\", p)"
   ]
  },
  {
   "cell_type": "code",
   "execution_count": 164,
   "metadata": {},
   "outputs": [
    {
     "name": "stdout",
     "output_type": "stream",
     "text": [
      "r -0.020789704874\n",
      "p 0.00038251039215\n"
     ]
    }
   ],
   "source": [
    "x = df.socscore\n",
    "y = df.EF2H\n",
    "r,p = pearsonr(x,y)\n",
    "print (\"r\", r)\n",
    "print (\"p\", p)"
   ]
  },
  {
   "cell_type": "code",
   "execution_count": 165,
   "metadata": {},
   "outputs": [
    {
     "name": "stdout",
     "output_type": "stream",
     "text": [
      "r -0.0635749268369\n",
      "p 1.57708739676e-27\n"
     ]
    }
   ],
   "source": [
    "x = df.socscore\n",
    "y = df.EF3H\n",
    "r,p = pearsonr(x,y)\n",
    "print (\"r\", r)\n",
    "print (\"p\", p)"
   ]
  },
  {
   "cell_type": "code",
   "execution_count": 166,
   "metadata": {},
   "outputs": [
    {
     "name": "stdout",
     "output_type": "stream",
     "text": [
      "r -0.0136634313055\n",
      "p 0.0195843429789\n"
     ]
    }
   ],
   "source": [
    "x = df.socscore\n",
    "y = df.EF4H\n",
    "r,p = pearsonr(x,y)\n",
    "print (\"r\", r)\n",
    "print (\"p\", p)"
   ]
  },
  {
   "cell_type": "code",
   "execution_count": 167,
   "metadata": {},
   "outputs": [
    {
     "name": "stdout",
     "output_type": "stream",
     "text": [
      "r 0.846112725791\n",
      "p 0.0\n"
     ]
    }
   ],
   "source": [
    "x = df.EF5F\n",
    "y = df.EF5H\n",
    "r,p = pearsonr(x,y)\n",
    "print (\"r\", r)\n",
    "print (\"p\", p)"
   ]
  },
  {
   "cell_type": "code",
   "execution_count": 168,
   "metadata": {},
   "outputs": [
    {
     "name": "stdout",
     "output_type": "stream",
     "text": [
      "r 0.029215490031\n",
      "p 5.97837571868e-07\n"
     ]
    }
   ],
   "source": [
    "x = df.socscore\n",
    "y = df.ltdtcap\n",
    "r,p = pearsonr(x,y)\n",
    "print (\"r\", r)\n",
    "print (\"p\", p)"
   ]
  },
  {
   "cell_type": "code",
   "execution_count": 169,
   "metadata": {},
   "outputs": [
    {
     "name": "stdout",
     "output_type": "stream",
     "text": [
      "r 0.25964445455\n",
      "p 0.0\n"
     ]
    }
   ],
   "source": [
    "x = df.socscore\n",
    "y = df.lnNS\n",
    "r,p = pearsonr(x,y)\n",
    "print (\"r\", r)\n",
    "print (\"p\", p)"
   ]
  },
  {
   "cell_type": "code",
   "execution_count": 170,
   "metadata": {},
   "outputs": [
    {
     "name": "stdout",
     "output_type": "stream",
     "text": [
      "r 0.0308031911434\n",
      "p 1.41474754199e-07\n"
     ]
    }
   ],
   "source": [
    "x = df.socscore\n",
    "y = df.roa\n",
    "r,p = pearsonr(x,y)\n",
    "print (\"r\", r)\n",
    "print (\"p\", p)"
   ]
  },
  {
   "cell_type": "code",
   "execution_count": 171,
   "metadata": {},
   "outputs": [
    {
     "name": "stdout",
     "output_type": "stream",
     "text": [
      "r 0.0215925728344\n",
      "p 0.000225079983416\n"
     ]
    }
   ],
   "source": [
    "x = df.envscore\n",
    "y = df.ltdtcap\n",
    "r,p = pearsonr(x,y)\n",
    "print (\"r\", r)\n",
    "print (\"p\", p)"
   ]
  },
  {
   "cell_type": "code",
   "execution_count": 172,
   "metadata": {},
   "outputs": [
    {
     "name": "stdout",
     "output_type": "stream",
     "text": [
      "r 0.347009398384\n",
      "p 0.0\n"
     ]
    }
   ],
   "source": [
    "x = df.envscore\n",
    "y = df.lnNS\n",
    "r,p = pearsonr(x,y)\n",
    "print (\"r\", r)\n",
    "print (\"p\", p)"
   ]
  },
  {
   "cell_type": "code",
   "execution_count": 173,
   "metadata": {},
   "outputs": [
    {
     "name": "stdout",
     "output_type": "stream",
     "text": [
      "r -0.00708283057004\n",
      "p 0.22629153311\n"
     ]
    }
   ],
   "source": [
    "x = df.envscore\n",
    "y = df.roa\n",
    "r,p = pearsonr(x,y)\n",
    "print (\"r\", r)\n",
    "print (\"p\", p)"
   ]
  },
  {
   "cell_type": "code",
   "execution_count": 174,
   "metadata": {},
   "outputs": [
    {
     "name": "stdout",
     "output_type": "stream",
     "text": [
      "r 1.0\n",
      "p 0.0\n"
     ]
    }
   ],
   "source": [
    "x = df.EFH\n",
    "y = df.EFF\n",
    "r,p = pearsonr(x,y)\n",
    "print (\"r\", r)\n",
    "print (\"p\", p)"
   ]
  },
  {
   "cell_type": "code",
   "execution_count": 175,
   "metadata": {
    "collapsed": true
   },
   "outputs": [],
   "source": [
    "#See Table 2 for the results of the Pearson correlation coefficients\n",
    "#For the correlation we pesent the results using economic freedom data of the Heritage Foundation as it gives the same results as using economic freedom index of the Fraser Institute."
   ]
  },
  {
   "cell_type": "code",
   "execution_count": 176,
   "metadata": {
    "collapsed": true
   },
   "outputs": [],
   "source": [
    "plt.style.use('ggplot')"
   ]
  },
  {
   "cell_type": "code",
   "execution_count": 177,
   "metadata": {},
   "outputs": [
    {
     "data": {
      "image/png": "[encoded data removed]",
      "text/plain": [
       "<matplotlib.figure.Figure at 0x2ecf054d7f0>"
      ]
     },
     "metadata": {},
     "output_type": "display_data"
    }
   ],
   "source": [
    "#plt.scatter(\"EFF\", \"EFH\")\n",
    "plt.scatter(df.EFF, df.EFH)\n",
    "plt.show()"
   ]
  },
  {
   "cell_type": "code",
   "execution_count": 178,
   "metadata": {},
   "outputs": [
    {
     "data": {
      "image/png": "[encoded data removed]",
      "text/plain": [
       "<matplotlib.figure.Figure at 0x2ecf5462e48>"
      ]
     },
     "metadata": {},
     "output_type": "display_data"
    }
   ],
   "source": [
    "#plt.scatter(\"socscore\", \"EFH\")\n",
    "plt.scatter(df.socscore, df.lnNS)\n",
    "plt.show()"
   ]
  },
  {
   "cell_type": "code",
   "execution_count": 179,
   "metadata": {},
   "outputs": [
    {
     "data": {
      "image/png": "[encoded data removed]",
      "text/plain": [
       "<matplotlib.figure.Figure at 0x2ecea834da0>"
      ]
     },
     "metadata": {},
     "output_type": "display_data"
    }
   ],
   "source": [
    "#plt.scatter(\"EF1F\", \"EF2H\")\n",
    "plt.scatter(df.EF1F, df.EF4H)\n",
    "plt.show()"
   ]
  },
  {
   "cell_type": "markdown",
   "metadata": {},
   "source": [
    "#### *Regression analysis*"
   ]
  },
  {
   "cell_type": "code",
   "execution_count": 180,
   "metadata": {},
   "outputs": [
    {
     "data": {
      "text/plain": [
       "array([ 0.83082906,  0.71139115,  0.71962825, ...,  0.86377745,\n",
       "        0.88025164,  0.91731858])"
      ]
     },
     "execution_count": 180,
     "metadata": {},
     "output_type": "execute_result"
    }
   ],
   "source": [
    "#Standardized coefficients\n",
    "stats.zscore(df.EFF)\n",
    "stats.zscore(df.EF1F)\n",
    "stats.zscore(df.EF2F)\n",
    "stats.zscore(df.EF3F)\n",
    "stats.zscore(df.EF4F)\n",
    "stats.zscore(df.EF5F)\n",
    "stats.zscore(df.EFH)\n",
    "stats.zscore(df.EF1H)\n",
    "stats.zscore(df.EF2H)\n",
    "stats.zscore(df.EF3H)\n",
    "stats.zscore(df.EF4H)\n",
    "stats.zscore(df.EF5H)"
   ]
  },
  {
   "cell_type": "code",
   "execution_count": 181,
   "metadata": {
    "collapsed": true
   },
   "outputs": [],
   "source": [
    "#Running fixed effects regression"
   ]
  },
  {
   "cell_type": "code",
   "execution_count": 182,
   "metadata": {
    "collapsed": true
   },
   "outputs": [],
   "source": [
    "#Convert year to datetime\n",
    "df['year'] = pd.to_datetime(df['time'], format='%Y')"
   ]
  },
  {
   "cell_type": "code",
   "execution_count": 183,
   "metadata": {
    "collapsed": true
   },
   "outputs": [],
   "source": [
    "#Add column year to index\n",
    "df=df.set_index('year', append=True)"
   ]
  },
  {
   "cell_type": "code",
   "execution_count": 184,
   "metadata": {
    "collapsed": true
   },
   "outputs": [],
   "source": [
    "#Swap indexes\n",
    "df.index = df.index.swaplevel(0,1)"
   ]
  },
  {
   "cell_type": "code",
   "execution_count": 185,
   "metadata": {},
   "outputs": [
    {
     "name": "stdout",
     "output_type": "stream",
     "text": [
      "                          PanelOLS Estimation Summary                           \n",
      "================================================================================\n",
      "Dep. Variable:               socscore   R-squared:                        0.7461\n",
      "Estimator:                   PanelOLS   R-squared (Between):              0.9999\n",
      "No. Observations:               29185   R-squared (Within):               0.0709\n",
      "Date:                Tue, Jan 30 2018   R-squared (Overall):              0.7461\n",
      "Time:                        17:28:55   Log-likelihood                -1.406e+05\n",
      "Cov. Estimator:             Clustered                                           \n",
      "                                        F-statistic:                   2.143e+04\n",
      "Entities:                          11   P-value                           0.0000\n",
      "Avg Obs:                       2653.2   Distribution:                 F(4,29181)\n",
      "Min Obs:                       1341.0                                           \n",
      "Max Obs:                       3812.0   F-statistic (robust):          1.024e+05\n",
      "                                        P-value                           0.0000\n",
      "Time periods:                   29185   Distribution:                 F(4,29181)\n",
      "Avg Obs:                       1.0000                                           \n",
      "Min Obs:                       1.0000                                           \n",
      "Max Obs:                       1.0000                                           \n",
      "                                                                                \n",
      "                             Parameter Estimates                              \n",
      "==============================================================================\n",
      "            Parameter  Std. Err.     T-stat    P-value    Lower CI    Upper CI\n",
      "------------------------------------------------------------------------------\n",
      "EFF           -0.0830     0.0170    -4.8840     0.0000     -0.1163     -0.0497\n",
      "lnNS           3.4577     0.0901     38.386     0.0000      3.2811      3.6342\n",
      "ltdtcap        0.0111     0.0059     1.8773     0.0605     -0.0005      0.0227\n",
      "roa            0.0858     0.0197     4.3648     0.0000      0.0473      0.1243\n",
      "==============================================================================\n",
      "\n",
      "\n"
     ]
    }
   ],
   "source": [
    "mod = PanelOLS.from_formula('socscore ~ EFF + lnNS + ltdtcap + roa', df)\n",
    "res = mod.fit(cov_type='clustered', cluster_entity=True)\n",
    "print(res)"
   ]
  },
  {
   "cell_type": "code",
   "execution_count": 186,
   "metadata": {},
   "outputs": [
    {
     "name": "stdout",
     "output_type": "stream",
     "text": [
      "                          PanelOLS Estimation Summary                           \n",
      "================================================================================\n",
      "Dep. Variable:               envscore   R-squared:                        0.7488\n",
      "Estimator:                   PanelOLS   R-squared (Between):              0.9999\n",
      "No. Observations:               29185   R-squared (Within):               0.1242\n",
      "Date:                Tue, Jan 30 2018   R-squared (Overall):              0.7488\n",
      "Time:                        17:29:03   Log-likelihood                -1.406e+05\n",
      "Cov. Estimator:             Clustered                                           \n",
      "                                        F-statistic:                   2.175e+04\n",
      "Entities:                          11   P-value                           0.0000\n",
      "Avg Obs:                       2653.2   Distribution:                 F(4,29181)\n",
      "Min Obs:                       1341.0                                           \n",
      "Max Obs:                       3812.0   F-statistic (robust):           1.04e+05\n",
      "                                        P-value                           0.0000\n",
      "Time periods:                   29185   Distribution:                 F(4,29181)\n",
      "Avg Obs:                       1.0000                                           \n",
      "Min Obs:                       1.0000                                           \n",
      "Max Obs:                       1.0000                                           \n",
      "                                                                                \n",
      "                             Parameter Estimates                              \n",
      "==============================================================================\n",
      "            Parameter  Std. Err.     T-stat    P-value    Lower CI    Upper CI\n",
      "------------------------------------------------------------------------------\n",
      "EFF           -0.2037     0.0193    -10.581     0.0000     -0.2415     -0.1660\n",
      "lnNS           4.0656     0.0788     51.617     0.0000      3.9112      4.2199\n",
      "ltdtcap        0.0071     0.0047     1.5210     0.1283     -0.0020      0.0162\n",
      "roa           -0.0448     0.0260    -1.7226     0.0850     -0.0957      0.0062\n",
      "==============================================================================\n",
      "\n",
      "\n"
     ]
    }
   ],
   "source": [
    "mod = PanelOLS.from_formula('envscore ~ EFF + lnNS + ltdtcap + roa', df)\n",
    "res = mod.fit(cov_type='clustered', cluster_entity=True)\n",
    "print(res)"
   ]
  },
  {
   "cell_type": "code",
   "execution_count": 187,
   "metadata": {},
   "outputs": [
    {
     "name": "stdout",
     "output_type": "stream",
     "text": [
      "                          PanelOLS Estimation Summary                           \n",
      "================================================================================\n",
      "Dep. Variable:               socscore   R-squared:                        0.7461\n",
      "Estimator:                   PanelOLS   R-squared (Between):              0.9999\n",
      "No. Observations:               29185   R-squared (Within):               0.0709\n",
      "Date:                Tue, Jan 30 2018   R-squared (Overall):              0.7461\n",
      "Time:                        17:29:12   Log-likelihood                -1.406e+05\n",
      "Cov. Estimator:             Clustered                                           \n",
      "                                        F-statistic:                   2.143e+04\n",
      "Entities:                          11   P-value                           0.0000\n",
      "Avg Obs:                       2653.2   Distribution:                 F(4,29181)\n",
      "Min Obs:                       1341.0                                           \n",
      "Max Obs:                       3812.0   F-statistic (robust):          1.024e+05\n",
      "                                        P-value                           0.0000\n",
      "Time periods:                   29185   Distribution:                 F(4,29181)\n",
      "Avg Obs:                       1.0000                                           \n",
      "Min Obs:                       1.0000                                           \n",
      "Max Obs:                       1.0000                                           \n",
      "                                                                                \n",
      "                             Parameter Estimates                              \n",
      "==============================================================================\n",
      "            Parameter  Std. Err.     T-stat    P-value    Lower CI    Upper CI\n",
      "------------------------------------------------------------------------------\n",
      "EFH           -0.0830     0.0170    -4.8840     0.0000     -0.1163     -0.0497\n",
      "lnNS           3.4577     0.0901     38.386     0.0000      3.2811      3.6342\n",
      "ltdtcap        0.0111     0.0059     1.8773     0.0605     -0.0005      0.0227\n",
      "roa            0.0858     0.0197     4.3648     0.0000      0.0473      0.1243\n",
      "==============================================================================\n",
      "\n",
      "\n"
     ]
    }
   ],
   "source": [
    "mod = PanelOLS.from_formula('socscore ~ EFH + lnNS + ltdtcap + roa', df)\n",
    "res = mod.fit(cov_type='clustered', cluster_entity=True)\n",
    "print(res)"
   ]
  },
  {
   "cell_type": "code",
   "execution_count": 188,
   "metadata": {},
   "outputs": [
    {
     "name": "stdout",
     "output_type": "stream",
     "text": [
      "                          PanelOLS Estimation Summary                           \n",
      "================================================================================\n",
      "Dep. Variable:               envscore   R-squared:                        0.7488\n",
      "Estimator:                   PanelOLS   R-squared (Between):              0.9999\n",
      "No. Observations:               29185   R-squared (Within):               0.1242\n",
      "Date:                Tue, Jan 30 2018   R-squared (Overall):              0.7488\n",
      "Time:                        17:29:20   Log-likelihood                -1.406e+05\n",
      "Cov. Estimator:             Clustered                                           \n",
      "                                        F-statistic:                   2.175e+04\n",
      "Entities:                          11   P-value                           0.0000\n",
      "Avg Obs:                       2653.2   Distribution:                 F(4,29181)\n",
      "Min Obs:                       1341.0                                           \n",
      "Max Obs:                       3812.0   F-statistic (robust):           1.04e+05\n",
      "                                        P-value                           0.0000\n",
      "Time periods:                   29185   Distribution:                 F(4,29181)\n",
      "Avg Obs:                       1.0000                                           \n",
      "Min Obs:                       1.0000                                           \n",
      "Max Obs:                       1.0000                                           \n",
      "                                                                                \n",
      "                             Parameter Estimates                              \n",
      "==============================================================================\n",
      "            Parameter  Std. Err.     T-stat    P-value    Lower CI    Upper CI\n",
      "------------------------------------------------------------------------------\n",
      "EFH           -0.2037     0.0193    -10.581     0.0000     -0.2415     -0.1660\n",
      "lnNS           4.0656     0.0788     51.617     0.0000      3.9112      4.2199\n",
      "ltdtcap        0.0071     0.0047     1.5210     0.1283     -0.0020      0.0162\n",
      "roa           -0.0448     0.0260    -1.7226     0.0850     -0.0957      0.0062\n",
      "==============================================================================\n",
      "\n",
      "\n"
     ]
    }
   ],
   "source": [
    "mod = PanelOLS.from_formula('envscore ~ EFH + lnNS + ltdtcap + roa', df)\n",
    "res = mod.fit(cov_type='clustered', cluster_entity=True)\n",
    "print(res)"
   ]
  },
  {
   "cell_type": "code",
   "execution_count": 189,
   "metadata": {},
   "outputs": [
    {
     "name": "stdout",
     "output_type": "stream",
     "text": [
      "                          PanelOLS Estimation Summary                           \n",
      "================================================================================\n",
      "Dep. Variable:               socscore   R-squared:                        0.7867\n",
      "Estimator:                   PanelOLS   R-squared (Between):              0.9991\n",
      "No. Observations:               29185   R-squared (Within):               0.2213\n",
      "Date:                Tue, Jan 30 2018   R-squared (Overall):              0.7867\n",
      "Time:                        17:29:28   Log-likelihood                -1.381e+05\n",
      "Cov. Estimator:             Clustered                                           \n",
      "                                        F-statistic:                   1.345e+04\n",
      "Entities:                          11   P-value                           0.0000\n",
      "Avg Obs:                       2653.2   Distribution:                 F(8,29177)\n",
      "Min Obs:                       1341.0                                           \n",
      "Max Obs:                       3812.0   F-statistic (robust):          2.007e+04\n",
      "                                        P-value                           0.0000\n",
      "Time periods:                   29185   Distribution:                 F(8,29177)\n",
      "Avg Obs:                       1.0000                                           \n",
      "Min Obs:                       1.0000                                           \n",
      "Max Obs:                       1.0000                                           \n",
      "                                                                                \n",
      "                             Parameter Estimates                              \n",
      "==============================================================================\n",
      "            Parameter  Std. Err.     T-stat    P-value    Lower CI    Upper CI\n",
      "------------------------------------------------------------------------------\n",
      "EF1H          -0.4175     0.0478    -8.7351     0.0000     -0.5112     -0.3238\n",
      "EF2H           0.1697     0.0915     1.8542     0.0637     -0.0097      0.3490\n",
      "EF3H          -0.7462     0.0871    -8.5664     0.0000     -0.9170     -0.5755\n",
      "EF4H           1.0397     0.0298     34.942     0.0000      0.9814      1.0980\n",
      "EF5H          -0.6552     0.0586    -11.173     0.0000     -0.7701     -0.5402\n",
      "lnNS           6.1267     0.1750     35.016     0.0000      5.7838      6.4697\n",
      "ltdtcap        0.0048     0.0031     1.5249     0.1273     -0.0014      0.0109\n",
      "roa            0.0298     0.0175     1.7064     0.0879     -0.0044      0.0640\n",
      "==============================================================================\n",
      "\n",
      "\n"
     ]
    }
   ],
   "source": [
    "mod = PanelOLS.from_formula('socscore ~ EF1H + EF2H + EF3H + EF4H + EF5H + lnNS + ltdtcap + roa', df)\n",
    "res = mod.fit(cov_type='clustered', cluster_entity=True)\n",
    "print(res)"
   ]
  },
  {
   "cell_type": "code",
   "execution_count": 190,
   "metadata": {},
   "outputs": [
    {
     "name": "stdout",
     "output_type": "stream",
     "text": [
      "                          PanelOLS Estimation Summary                           \n",
      "================================================================================\n",
      "Dep. Variable:               envscore   R-squared:                        0.7862\n",
      "Estimator:                   PanelOLS   R-squared (Between):              0.9996\n",
      "No. Observations:               29185   R-squared (Within):               0.2552\n",
      "Date:                Tue, Jan 30 2018   R-squared (Overall):              0.7862\n",
      "Time:                        17:29:36   Log-likelihood                -1.383e+05\n",
      "Cov. Estimator:             Clustered                                           \n",
      "                                        F-statistic:                   1.341e+04\n",
      "Entities:                          11   P-value                           0.0000\n",
      "Avg Obs:                       2653.2   Distribution:                 F(8,29177)\n",
      "Min Obs:                       1341.0                                           \n",
      "Max Obs:                       3812.0   F-statistic (robust):          1.385e+04\n",
      "                                        P-value                           0.0000\n",
      "Time periods:                   29185   Distribution:                 F(8,29177)\n",
      "Avg Obs:                       1.0000                                           \n",
      "Min Obs:                       1.0000                                           \n",
      "Max Obs:                       1.0000                                           \n",
      "                                                                                \n",
      "                             Parameter Estimates                              \n",
      "==============================================================================\n",
      "            Parameter  Std. Err.     T-stat    P-value    Lower CI    Upper CI\n",
      "------------------------------------------------------------------------------\n",
      "EF1H          -0.5077     0.0388    -13.097     0.0000     -0.5837     -0.4318\n",
      "EF2H           0.4405     0.0563     7.8219     0.0000      0.3302      0.5509\n",
      "EF3H          -0.5749     0.0648    -8.8764     0.0000     -0.7019     -0.4480\n",
      "EF4H           0.5076     0.0258     19.654     0.0000      0.4570      0.5583\n",
      "EF5H          -0.5901     0.0356    -16.560     0.0000     -0.6599     -0.5202\n",
      "lnNS           6.5084     0.1685     38.615     0.0000      6.1780      6.8387\n",
      "ltdtcap        0.0021     0.0024     0.8620     0.3887     -0.0027      0.0069\n",
      "roa           -0.0700     0.0197    -3.5588     0.0004     -0.1085     -0.0314\n",
      "==============================================================================\n",
      "\n",
      "\n"
     ]
    }
   ],
   "source": [
    "mod = PanelOLS.from_formula('envscore ~ EF1H + EF2H + EF3H + EF4H + EF5H + lnNS + ltdtcap + roa', df)\n",
    "res = mod.fit(cov_type='clustered', cluster_entity=True)\n",
    "print(res)"
   ]
  },
  {
   "cell_type": "markdown",
   "metadata": {},
   "source": [
    "## Results"
   ]
  },
  {
   "cell_type": "markdown",
   "metadata": {},
   "source": [
    "In this section we introduce the results of the empirical analysis. Firstly, we report bivariate correlation coefficients to obtain an indication which variables are related.  Then, we present the coefficients that have been obtained when analyzing the link between economic freedom and CSR dimensions and indicators. "
   ]
  },
  {
   "cell_type": "markdown",
   "metadata": {},
   "source": [
    "#### *Bivariate correlation analysis*"
   ]
  },
  {
   "cell_type": "markdown",
   "metadata": {},
   "source": [
    "<div style=\"text-align: justify\"> Table 2 reports the results of the bivariate correlation analysis. Social dimension of CSR is negatively related to three out of five aspects of economic freedom: small government size, rule of law, monetary freedom. Environmental dimension of CSR gives different correlation results: opposite to social dmension, it is negatively related with market openness and regulatory effciciency. Nevertheless, both dimensios are negatively related with small government size. Long term debt as a percentage of total capital and logarithm of net sales are related positively with both dimensions of CSR. However, return of assets shows significant correlation with social score of CSR but not with environmental."
   ]
  },
  {
   "cell_type": "markdown",
   "metadata": {},
   "source": [
    "<div style=\"text-align: center\"> <a name=\"Table 2\"></a>**Table2** Bivariate correlation coefficients"
   ]
  },
  {
   "cell_type": "markdown",
   "metadata": {
    "collapsed": true
   },
   "source": [
    "||EF1H|EF2H|EF3H|EF4H|EF5H|ltdtcap|lnNS|roa|\n",
    "|-------|\n",
    "|<div style=\"text-align: left\">**socscore**|-.13**|-.01**|-.05**|.01*|.14**|.01**|.19**|.01*|\n",
    "|<div style=\"text-align: left\">**envscore**|-.18**|.02**|.05**|-.04**|-.12**|.01**|.26**|.00|\n",
    "|<div style=\"text-align: left\">**EF2H**|-.35**||||||||\n",
    "|<div style=\"text-align: left\">**EF3H**|.02**|.47**||||||||||||\n",
    "|<div style=\"text-align: left\">**EF4H**|-.28**|.82**|.27**||||||\n",
    "|<div style=\"text-align: left\">**EF5H**|-.11**|.72**|-.30**|.67**||||\n",
    "|<div style=\"text-align: left\">**ltdtcap**|-.02**|.00|-.02**|.01|.01*||||\n",
    "|<div style=\"text-align: left\">**lnNS**|.21**|-.36**|.10**|-.46**|-.35|.01**||||\n",
    "|<div style=\"text-align: left\">**roa**|.02**|-.04**|-.02**|-.03**|-.04**|-.01|.07**||"
   ]
  },
  {
   "cell_type": "markdown",
   "metadata": {},
   "source": [
    "<div style=\"text-align: center\"> p<0.05 (*); \n",
    "<div style=\"text-align: center\"> p<0.01 (**)\n"
   ]
  },
  {
   "cell_type": "markdown",
   "metadata": {},
   "source": [
    "#### *Testing the relationship between economic freedom and CSR*"
   ]
  },
  {
   "cell_type": "markdown",
   "metadata": {
    "collapsed": true
   },
   "source": [
    "<div style=\"text-align: justify\"> The estimation results for equation (1) are reported in Table 3. Columns [1]-[2] give the results obtained using the economic freedom index of the Fraser Institute, while columns [3]-[4] those of the Heritage Foundation. Columns [1] and [3] present the outcomes obtained analyzing the effect of economic freedom on social dimension of CSR, whereas columns [2] and [4] reports the results of economic freedom impact on environmental dimension of CSR. Moreover, columns [1]-[4] show the impact of control variables, which include return of assets, long-term debt ratio and the natural logarithm of net sales. In the analysis we use fixed effects model, which allows controlling for variables that can impact or bias the predictor or outcome. \n",
    "<style>\n",
    "    div.cell{\n",
    "        width:100%;\n",
    "        margin-left:1%;\n",
    "        margin-right:auto;\n",
    "    }\n",
    "</style>\n",
    "<div style=\"text-align: justify\"> It is apparent that both the economic freedom index of the Fraser Institute and the Heritage Foundation have a significant negative impact on companies’ investment in CSR activities. Economic freedom is negatively related with social and environmental dimensions of CSR.This suggests that economic freedom reduces companies’ CSR. Hence, the analysis does not confirm hypotheses H1 and H2 that have been developed in the literature review. Even though these results differ from earlier studies (Apostolakou and Jakson, [2010](#2010 Jackson); Antweiler et al., [2001](#2001 Antweiler)) they are consistent with those of (Taylor et al., [2003](#2003 Taylor); Shadbolt, [2011](#2011 Shadbolt)), who suggest that government intervention might increase companies’ investment CSR activities.\n",
    "\n"
   ]
  },
  {
   "cell_type": "markdown",
   "metadata": {},
   "source": [
    "<div style=\"text-align: center\"> <a name=\"Table 3\"></a> **Table 3** Estimation results using aggregate index of economic freedom"
   ]
  },
  {
   "cell_type": "markdown",
   "metadata": {},
   "source": [
    "|<div style=\"text-align: left\">Explanatory variables|<div style=\"text-align: center\">Social dimension <br>(socscore)<br> [1]|<div style=\"text-align: center\"> Environmental dimension <br> (envscore) <br> [2]|<div style=\"text-align: center\"> Social dimension<br> (socscore) <br> [3]|<div style=\"text-align: center\">Environmental dimension <br> (envscore)<br> [4]|\n",
    "|-------------------------------|\n",
    "|<div style=\"text-align: left\">Economic freedom (EFF/EFH)|<div style=\"text-align: center\">-.20**|<div style=\"text-align: center\">-.08**|<div style=\"text-align: center\">-.20**|<div style=\"text-align: center\">-.08**|\n",
    "|<div style=\"text-align: left\">Return of assets (roa)|<div style=\"text-align: center\">.09**|<div style=\"text-align: center\">-.04|<div style=\"text-align: center\">.09**|<div style=\"text-align: center\">-.04|\n",
    "|<div style=\"text-align: left\">Long-term debt as percentage of total capital(ltdtcap)|<div style=\"text-align: center\">.01|<div style=\"text-align: center\">.01|<div style=\"text-align: center\">.01|<div style=\"text-align: center\">.01|\n",
    "|<div style=\"text-align: left\">Natural logarithm of net sales (lnNS)|<div style=\"text-align: center\">3.46**|<div style=\"text-align: center\">4.07**|<div style=\"text-align: center\">3.46**|<div style=\"text-align: center\">4.07**|\n",
    "|<div style=\"text-align: left\">F (4.29)|<div style=\"text-align: center\">2.14|<div style=\"text-align: center\">2.18|<div style=\"text-align: center\">2.14|<div style=\"text-align: center\">2.18|\n",
    "|<div style=\"text-align: left\">R2 (within)|<div style=\"text-align: center\">.07|<div style=\"text-align: center\">.12|<div style=\"text-align: center\">.07|<div style=\"text-align: center\">.12|\n",
    "|<div style=\"text-align: left\">R2 (between)|<div style=\"text-align: center\">.99|<div style=\"text-align: center\">.99|<div style=\"text-align: center\">.99|<div style=\"text-align: center\">.99|"
   ]
  },
  {
   "cell_type": "markdown",
   "metadata": {},
   "source": [
    "<div style=\"text-align: center\"> p<0.05 (*); \n",
    "<div style=\"text-align: center\"> p<0.01 (**)\n"
   ]
  },
  {
   "cell_type": "markdown",
   "metadata": {},
   "source": [
    "<div style=\"text-align: justify\"> Tables 4 presents the empirical analysis results obtained using the economic freedom sub-indicators instead of the aggregate economic freedom index. When using sub-indices of the Heritage Foundation, the negative influence on companies’ CSR performance is caused by small size of the government, legal system and property rights and no regulation. Nevertheless, there is a positive impact of rule of law and market openness, except the impact of rule of law is not significant on social dimension of CSR.\n",
    "<style>\n",
    "    div.cell{\n",
    "        width:100%;\n",
    "        margin-left:1%;\n",
    "        margin-right:auto;\n",
    "    }\n",
    "</style>\n",
    "<div style=\"text-align: justify\"> The outcomes of the analysis of control variables show that all control variables, except long-term debt as percentage of total capital, are all significantly correlated with CSR (see Tables 4). Return of assets is negatively related with environmental dimension of CSR, but positively with social dimension of. Although the impact of return of assets on CSR dimensions has been found to be significant, the effect size is small compared with the effect of the natural logarithm of net sales."
   ]
  },
  {
   "cell_type": "markdown",
   "metadata": {},
   "source": [
    "<div style=\"text-align: center\"> <a name=\"Table 5\"></a> **Table 4** Empirical results of economic freedom sub-indicators using data of the Heritage Foundation"
   ]
  },
  {
   "cell_type": "markdown",
   "metadata": {},
   "source": [
    "|<div style=\"text-align: left\">Explanatory variables|<div style=\"text-align: center\">Social dimension <br>(socscore)<br> [1]|<div style=\"text-align: center\"> Environmental dimension <br> (envscore) <br> [2]|\n",
    "|-------------------------------|\n",
    "|<div style=\"text-align: left\"> Small government size (EF1H)|<div style=\"text-align: center\">-.42**|<div style=\"text-align: center\">-.51**|\n",
    "|<div style=\"text-align: left\"> Rule of law (EF2H) |<div style=\"text-align: center\">.17|<div style=\"text-align: center\">.44**|\n",
    "|<div style=\"text-align: left\"> Monetary freedom (EF3H)|<div style=\"text-align: center\">-.75**|<div style=\"text-align: center\">-.57**|\n",
    "|<div style=\"text-align: left\"> Market openness (EF4H)|<div style=\"text-align: center\">1.04**|<div style=\"text-align: center\">.51**|\n",
    "|<div style=\"text-align: left\"> Regulatory efficiency (EF5H)|<div style=\"text-align: center\">-.66**|<div style=\"text-align: center\">-.59**|\n",
    "|<div style=\"text-align: left\">Return of assets (roa)|<div style=\"text-align: center\">.03**|<div style=\"text-align: center\">-.07**|\n",
    "|<div style=\"text-align: left\">Long-term debt as percentage of total capital(ltdtcap)|<div style=\"text-align: center\">.00|<div style=\"text-align: center\">.00|\n",
    "|<div style=\"text-align: left\">Natural logarithm of net sales (lnNS)|<div style=\"text-align: center\">6.13**|<div style=\"text-align: center\">6.51**|\n",
    "|<div style=\"text-align: left\">F (8.29)|<div style=\"text-align: center\">1.35|<div style=\"text-align: center\">1.34|\n",
    "|<div style=\"text-align: left\">R2 (within)|<div style=\"text-align: center\">.22|<div style=\"text-align: center\">.26|\n",
    "|<div style=\"text-align: left\">R2 (between)|<div style=\"text-align: center\">.99|<div style=\"text-align: center\">.99|"
   ]
  },
  {
   "cell_type": "markdown",
   "metadata": {},
   "source": [
    "<div style=\"text-align: center\"> p<0.05 (*); \n",
    "<div style=\"text-align: center\"> p<0.01 (**)\n"
   ]
  },
  {
   "cell_type": "markdown",
   "metadata": {},
   "source": [
    "# Discussion"
   ]
  },
  {
   "cell_type": "markdown",
   "metadata": {},
   "source": [
    "<div style=\"text-align: justify\"> The aim of this study was to investigate how and to what extent free market institutions influence the success of companies’ social and environmental performance. Several authors have suggested that economic freedom increases companies’ incentives to invest in CSR activities (De Geer et al., [2010](#2010 De); Kinderman, [2012](#2012 Kinderman); Jackson and Apostolakou, [2010](#2010 Jackson)). However, the current study does not support previous research in this area. In fact, contrary to what was previously thought, we have found that economic freedom reduces firms’ CSR.\n",
    "<style>\n",
    "    div.cell{\n",
    "        width:100%;\n",
    "        margin-left:1%;\n",
    "        margin-right:auto;\n",
    "    }\n",
    "</style>\n",
    "<div style=\"text-align: justify\"> There are several reasons why this study has not confirmed previous research on the positive effect of economic freedom on companies’ CSR. Firstly, our analysis did not take account of the negative impact of financial economic crisis. A recent review of the literature on this topic (Karaibrahimoglu, [2010](#2010 Karaibrahimoglu)) has found that there was a significant decrease in the number of CSR projects in times of financial crisis. The author claims those financial crises “…are the times that are likely to be characterized by uncertain business environment” (Karaibrahimoglu, [2010](#2010 Karaibrahimoglu)). Therefore, organizations postpone investments, reduce their budgets and in turn CSR projects. Hence, even though we expect that economic freedom increases CSR of companies, the results could have shown a negative impact due to the onset of the financial crisis in late 2008.  \n",
    "<style>\n",
    "    div.cell{\n",
    "        width:100%;\n",
    "        margin-left:1%;\n",
    "        margin-right:auto;\n",
    "    }\n",
    "</style>\n",
    "<div style=\"text-align: justify\"> Secondly, the findings of this study might differ from the results reported in the literature review because we have used the average index of economic freedom. Most of the previous literature has investigated how companies’ decisions to take actions in CSR are affected by trade intensity, government regulation or other components of economic freedom but did not take into account how overall levels of economic freedom affect CSR. In one of her studies of economic freedom impact on the environment, Lundström ([2003](#2003 Lundström)) has concluded that different economic freedoms might have different effects on economic growth and the environment, whereas in another (Lundström and Carlsson, [2000](#2000 Lundström) she states that the impact of economic freedom might differ between low- and high-income countries. If we look at our results, we can see that the outcomes that have been obtained using sub-indices of the Heritage Foundation show both positive and negative impact of economic freedom on CSR (see Table 4). However, in most of the cases the negative impact is higher, which might explain why the effect of the average economic freedom index on CSR is negative. \n",
    "<style>\n",
    "    div.cell{\n",
    "        width:100%;\n",
    "        margin-left:1%;\n",
    "        margin-right:auto;\n",
    "    }\n",
    "</style>\n",
    "<div style=\"text-align: justify\"> Another explanation why this study is not consistent with previous results could be the different choice of variables in the measurement of economic freedom of both the Heritage Foundation and the Fraser Institute. According to Lundström ([2003](#2003 Lundström)), “This process involves a lot of uncertainties since the expertise, the perception of what is important in determining economic freedom and the relative weight attached to these factors might differ substantially across countries.” Although the economic freedom index of the Heritage Foundation seems to be to some extent comparable with the economic freedom index of the Fraser Institute, there are still subjective influences in the variables that each institute chooses to include in the measurement as well as the weighting process of them. Thus, this might explain why in some cases the impact of economic freedom using the index of the Heritage Foundations is found to be positive, while the index of the Fraser Institute shows negative.\n",
    "<style>\n",
    "    div.cell{\n",
    "        width:100%;\n",
    "        margin-left:1%;\n",
    "        margin-right:auto;\n",
    "    }\n",
    "</style>\n",
    "<div style=\"text-align: justify\"> Next, the results could have shown a positive impact of economic freedom on CSR if I have used Anglo Saxon source instead of ASSET4 dataset, which is a European based measurement of CSR. As mentioned in the literature review, some researchers (Jackson and Apostolakou, [2010](#2010 Jackson) have proposed that companies in Anglo-Saxon countries have higher CSR scores than firms in Continental Europe where markets are more coordinated. Moreover, recently Rahdari and Rostamy ([2015](#2015 Rahdari)) have provided the list of other more common CSR indicators, such as Down John Sustainability index, TSE4Good Index, the Global 100, Bloomberg ESG Data and others. The indexes and rating systems presented in the paper could also be used in the future research to see if there are differences with the current study when analyzing the effect of economic freedom on companies’ CSR performance. \n",
    "<style>\n",
    "    div.cell{\n",
    "        width:100%;\n",
    "        margin-left:1%;\n",
    "        margin-right:auto;\n",
    "    }\n",
    "</style>\n",
    "<div style=\"text-align: justify\"> In recent years several researchers have raised the question of the robustness of the CSR ratings. For instance, Chatterji et al. ([2014](#2014 Chatterji)) have discussed that there is a lack of convergence between raters when assessing CSR of a company. They might develop different methodologies to measure the same indicator or dimension, making the validity of CSR scores low. Thus, lack of convergence creates uncertainty for managers as well as many challenges for researchers who test theories of CSR. Another problem of the measurement of CSR performance is the lack of the data in the ratings and the treatment of these gaps in the sample. This study also suffers from the lack of the CSR data as the sample of our analysis is unbalanced, indicating that the data of CSR is not sufficient enough to conclude about the influence of economic freedom on CSR. Apart from this, Table 1 shows that there is a high variation of CSR dimensions and indicators during the period 2005-2014, making it difficult to observe how changes in economic freedom affects companies’ CSR initiatives. \n",
    "<style>\n",
    "    div.cell{\n",
    "        width:100%;\n",
    "        margin-left:1%;\n",
    "        margin-right:auto;\n",
    "    }\n",
    "</style>\n",
    "<div style=\"text-align: justify\"> Finally, although most of the literature has suggested that free market institutions positively influence companies’ CSR performance, several authors have supported a negative impact. Few researchers have demonstrated that government might play a substantial role to encourage and promote companies to invest in CSR (Lyon and Maxwell, [2008](#2008 Lyon); Taylor et al., [2003](#2003 Taylor); OECD, [2011](#2011 OECD)), while others have shown that trade intensity might lead to more production and in turn creates more pollution (Carson, [2010](#2010 Carson); Antweiler et al., [2001](#2001 Antweiler)). Cowe and Porritt ([2002](#2002 Cowe)) have shown that government action may ensure that companies’ investment in CSR contribute to sustainable development since voluntary actions alone are not enough. They have suggested that government might intervene where market pressures cannot deliver expected outcomes. For instance, in areas such as product quality and safety, government regulation is essential in order to ensure that companies follow at least minimum requirements and perform their functions effectively. The results of this study have also confirmed the previous findings showing that large government size positively influences CSR of companies (see Tables 4).\n",
    "\n"
   ]
  },
  {
   "cell_type": "markdown",
   "metadata": {},
   "source": [
    "# Conclusion"
   ]
  },
  {
   "cell_type": "markdown",
   "metadata": {},
   "source": [
    "<div style=\"text-align: justify\"> This study addresses the research question of how free market institutions influence CSR. The findings of this study add to a growing body of literature on the link between economic freedom and different concepts of CSR. In the analysis we have developed hypotheses suggesting that economic freedom positively affects CSR. Using panel analysis on a sample of 41 countries, we have found that free market institutions significantly influence both social and environmental dimensions of CSR. However, the results are not in line with the hypotheses since the analysis has revealed that economic freedom reduces companies’ CSR. The robustness of this study lies in the use of two sources of the economic freedom index (Fraser Institute and Heritage Foundation) that are comparable and suggest very similar results. It should be noted that there are some limitations that need to be considered. Firstly, the model has not allowed controlling for the negative effect of global financial crisis. Although we expect that CSR of companies should increase with higher levels of economic freedom, the results could have shown negative impact due to postponed organizations’ investments after the onset of financial crisis. Secondly, this study might suffer from the lack of the CSR data. Finally, the analysis is limited to the environmental and social dimensions of CSR, while there are other dimensions and indicators that are not investigated. Hence, the question whether free market institutions stimulate or reduce CSR of companies still remains unclear and calls for more research. Notwithstanding several methodological limitations, this study has shown robust evidence that free market institutions play a significant role in companies’ CSR. "
   ]
  },
  {
   "cell_type": "markdown",
   "metadata": {},
   "source": [
    "<a name=\"Appendix 1\"></a> <div style=\"text-align: center\"> **Appendix 1 **"
   ]
  },
  {
   "cell_type": "markdown",
   "metadata": {},
   "source": [
    "<div style=\"text-align: center\">Countries and number of companies included in analysis of EF impact on CSR"
   ]
  },
  {
   "cell_type": "markdown",
   "metadata": {},
   "source": [
    "|Country|Number of companies|Country|Number of companies|\n",
    "|---------|---|----|---|\n",
    "|<div style=\"text-align: justify\">Australia|\t375|<div style=\"text-align: justify\">Malaysia|\t52|\n",
    "|<div style=\"text-align: justify\">Austria|\t16|<div style=\"text-align: justify\">\tMexico\t|35|\n",
    "|<div style=\"text-align: justify\">Belgium|\t25\t|<div style=\"text-align: justify\">Netherlands\t|36|\n",
    "|<div style=\"text-align: justify\">Brazil|\t89|<div style=\"text-align: justify\">New Zealand\t|47|\n",
    "|<div style=\"text-align: justify\">Canada|\t282|<div style=\"text-align: justify\">Norway\t|25|\n",
    "|<div style=\"text-align: justify\">Chile|\t23\t|<div style=\"text-align: justify\">Philippines|\t26|\n",
    "|<div style=\"text-align: justify\">China|\t64\t|<div style=\"text-align: justify\">Poland|\t32|\n",
    "|<div style=\"text-align: justify\">Denmark|\t28\t|<div style=\"text-align: justify\">Portugal|\t11|\n",
    "|<div style=\"text-align: justify\">Egypt|\t10\t|<div style=\"text-align: justify\">Qatar|\t13|\n",
    "|<div style=\"text-align: justify\">Finland|\t25\t|<div style=\"text-align: justify\">Russian Federation|\t35|\n",
    "|<div style=\"text-align: justify\">France|97|<div style=\"text-align: justify\">Singapore|\t46|\n",
    "|<div style=\"text-align: justify\">Germany|\t91|\t<div style=\"text-align: justify\"> South Africa|\t127|\n",
    "|<div style=\"text-align: justify\">Greece|\t18|<div style=\"text-align: justify\">Spain|\t46|\n",
    "|<div style=\"text-align: justify\">Hong Kong|\t213\t|<div style=\"text-align: justify\">Sweden\t|66|\n",
    "|<div style=\"text-align: justify\">India|\t101\t|<div style=\"text-align: justify\">Switzerland|\t66|\n",
    "|<div style=\"text-align: justify\">Indonesia|\t38|\t<div style=\"text-align: justify\">Taiwan\t|133|\n",
    "|<div style=\"text-align: justify\">Ireland|\t12|<div style=\"text-align: justify\">\tThailand|\t36|\n",
    "|<div style=\"text-align: justify\">Israel|\t14|<div style=\"text-align: justify\">\tTurkey|\t26|\n",
    "|<div style=\"text-align: justify\">Italy|\t45|<div style=\"text-align: justify\">\tUnited Kingdom|\t414|\n",
    "|<div style=\"text-align: justify\">Japan|\t421|<div style=\"text-align: justify\">United States\t|1752|\n",
    "|<div style=\"text-align: justify\">Kuwait|\t12|\t<div style=\"text-align: justify\">**Total**|\t**5023**|\n"
   ]
  },
  {
   "cell_type": "markdown",
   "metadata": {
    "collapsed": true
   },
   "source": [
    "## References"
   ]
  },
  {
   "cell_type": "markdown",
   "metadata": {},
   "source": [
    "<div style=\"text-align: justify\"> <a name=\"2001 Antweiler\"></a> Antweiler, W., Copeland, B., Scott Taylor, M. (2001) Is Free Trade Good for the Environment? American Economic Review 91(4), 877–908.\n",
    "\n",
    "<div style=\"text-align: justify\"> <a name=\"2011 Arevalo\"></a> Arevalo, J. A., Aravind, D. (2011) Corporate social responsibility practices in India: approach, drivers, and barriers. Corporate Governance: The international journal of business in society, Vol. 11 Issue: 4, pp.399-414, DOI: 10.1108/14720701111159244\n",
    "\n",
    "<div style=\"text-align: justify\"> <a name=\"2006 Baughn\"></a> Baughn, C.C., Bodie, N. L., Mclntosh, J. C. (2006) Corporate Social and Environmental Responsibility in Asian Countries and Other Geographical Regions. Corporate Social Responsibility and Environmental Management, 14, 189-205, DOI: 10.1002/csr.160\n",
    "\n",
    "<div style=\"text-align: justify\"> <a name=\"2008 Aka\"></a> Bedia, F., Aka (2008) Effects of trade and growth on air pollution in the aggregated Sub-Saharan Africa. International Journal of Applied Econometrics and Quantitative Studies. Vol. 5-1 (2008).\n",
    "\n",
    "<div style=\"text-align: justify\"> <a name=\"2008 Bjørnskov\"></a> Bjørnskov, C., Foss, N. (2008) Economic freedom and Entrepreneurial Activity: Some Cross-Country Evidence. Public Choice, Vol. 134, No. 3–4. 8. DOI 10.1007/s11127-007-9229-y\n",
    "\n",
    "<div style=\"text-align: justify\"> <a name=\"2010 Brown\"></a> Brown, D. L., Vetterlein, A., Roemer – Mahler, A. (2010) Theorizing Transnational Corporations as Social Actors: An Analysis of Corporate Motivations. In: Business and Politics (Online), Vol. 12, No. 1, 2010, p. 1-37.\n",
    "\n",
    "<div style=\"text-align: justify\"> <a name=\"2000 Carlsson\"></a>  Carlsson, F., Lundström, S. (2000) Political and Economic Freedom and the Environment: The Case of CO2 Emissions. Working Papers in Economics no 29. Gothernburg, Sweden: University of Gothenburg, Department of Economics.\n",
    "\n",
    "<div style=\"text-align: justify\"> <a name=\"2010 Richard\"></a>  Carson, Richard (2010). The Environmental Kuznets Curve: Seeking Empirical Regularity and Theoretical Structure. Review of Environmental Economics and Policy, Volume 4, Issue 1, Pages 3–23, https://doi.org/10.1093/reep/rep021\n",
    "\n",
    "<div style=\"text-align: justify\"> <a name=\"2014 Chatterji\"></a>  Chatterji, A., Durand, R., Levine, D., Touboul, S. (2014) Do Ratings of Firms Converge? Implications for Strategy Research. IRLE Working Paper No. 107-14. http://irle.berkeley.edu/workingpapers/107-14.pdf\n",
    "\n",
    "<div style=\"text-align: justify\"> <a name=\"2002 Cowe\"></a> Cowe, R., Porrit, J. (2002) Government’s Business - Enabling corporate sustainability. Forum for the Future, ISBN 0-9540069-2-5.\n",
    "\n",
    "<div style=\"text-align: justify\"> <a name=\"2008 Crowther\"></a> Crowther, D. Aras, G., (2008) Corporate social responsibility. ISBN 978-87-7681-415-1. Available at: http://mdos.si/Files/defining-corporate-social-responsibility.pdf\n",
    "\n",
    "<div style=\"text-align: justify\"> <a name=\"2008 Dahlsrud\"></a> Dahlsrud, A., (2008) How Corporate Social Responsibility is Defined: An Analysis of 37 Definitions. 15: 1 Corporate Social Responsibility and Environmental management, 1, 8-11.\n",
    "\n",
    "<div style=\"text-align: justify\"> <a name=\"1998 Dawson\"></a> Dawson, J.W. (1998) Institutions, investment, and growth: new cross-country and panel data evidence. Economic Inquiry 36, 603 – 619\n",
    "\n",
    "<div style=\"text-align: justify\"> <a name=\"2010 De\"></a> De Geer, H., Borglund, T., Frostenson, M. (2010) Reconciling CSR with the Role of the Corporation in Welfare States: The Problematic Swedish Example. Journal of Business Ethics 89, 269‐83.\n",
    "\n",
    "<div style=\"text-align: justify\"> <a name=\"2005 Doucouliagos\"></a> Doucouliagos, C., Ulubasoglu, M., A. (2005) Economic freedom and economic growth: Does specification make a difference? European Journal of Political Economy, Vol. 22 (2006) 60-81. Economics working paper, No. 2009-01.\n",
    "\n",
    "<div style=\"text-align: justify\"> <a name=\"2005 Frankel\"></a>  Frankel, J. A., Rose, A. R. (2005) Is trade good or bad for the environment? Sorting out the causality. The Review of Economics and Statistics, 87(1): 85–91. Rev. Econ. Statist. 87(1)(2005)85–91.\n",
    "\n",
    "<div style=\"text-align: justify\"> <a name=\"2017 Fraser\"></a> Fraser Institute (2017) Welcome to Fraser Institute. Retrieved from: https://www.fraserinstitute.org/about\n",
    "\n",
    "<div style=\"text-align: justify\"> <a name=\"1970 Friedman\"></a>  Friedman, M. (1970). The Social Responsibility of Business Is to Increase Its Profits. New York Times Magazine, 32-33, 122-124\n",
    "\n",
    "<div style=\"text-align: justify\"> <a name=\"2013 Graafland\"></a> Graafland, J. J., Hugo, S. (2013) Competition, Time Horizon and Corporate Social Performance. CentER\n",
    "\n",
    "<div style=\"text-align: justify\"> <a name=\"2004 Graafland\"></a> Graafland, J. J., Smid, H. (2004) Reputation, Corporate Social Responsibility and Market Regulation. Tijdschrift voor Economie en Management 49 (2): 269-306.\n",
    "\n",
    "<div style=\"text-align: justify\"> <a name=\"1996 Gwartney\"></a> Gwartney, J., Lawson, R., and Block, W. (1996). Economic Freedom of the World: 1975–1995. Fraser Institute.\n",
    "\n",
    "<div style=\"text-align: justify\"> <a name=\"2015 Gwartney et\"></a> Gwartney, J., Lawson, R., and Hall, J. (2015). Economic Freedom of the World.Annual Report. Fraser Institute.\n",
    "\n",
    "<div style=\"text-align: justify\"> <a name=\"1999 Hopkins\"></a> Hopkins, M. (1999). The Planetary Bargain: Corporate Social Responsibility Comes of Age. Basingstoke: Palgrave Macmillan, London. ISBN: 978-1-349-27066-8. DOI: https://doi.org/10.1007/978-1-349-27066-8\n",
    "\n",
    "<div style=\"text-align: justify\"> <a name=\"2010 Ioannou\"></a> Ioannou, I., Serafeim, G. (2010). What Drives Corporate Social Performance? International Evidence from Social, Environmental and Governance Scores. Cambridge: Harvard Business School. Working Paper 11-016.\n",
    "\n",
    "<div style=\"text-align: justify\"> <a name=\"2010 Jackson\"></a>Jackson, G. and Apostolakou, A. (2010). Corporate social responsibility in Western Europe: An institutional mirror or substitute? Journal of Business Ethics 94, 371‐394.\n",
    "\n",
    "<div style=\"text-align: justify\"> <a name=\"2008 Justesen\"></a> Justesen, M. K. (2008) The effect of economic freedom on growth revisited: New evidence on causality from a panel of countries 1970 – 1999. European Journal of Political Economy, Vol. 24, issue 3, pages 642-660.\n",
    "\n",
    "<div style=\"text-align: justify\"> <a name=\"2010 Karaibrahimoglu\"></a> Karaibrahimoglu, Y. Z. (2010) Corporate social responsibility in times of financial Crisis. African Journal of Business Management, 4(4), 382-389.\n",
    "\n",
    "<div style=\"text-align: justify\"> <a name=\"2011 Kerekes\"></a> Kerekes. C. B. (2011) Property Rights and Environmental Quality: A Cross-Country Study. Cato Journal, Vol. 31, issue 2, pages 315-338.\n",
    "\n",
    "<div style=\"text-align: justify\"> <a name=\"2012 Kinderman\"></a> Kinderman, D. (2012) Free us up so I can be responsible. The co-evolution of corporate social responsibility and neo-liberalism in the UK, 1977-2010. Socio-Economic Review Vol. 10, No. 1, pp. 29-57.\n",
    "\n",
    "<div style=\"text-align: justify\"> <a name=\"2012 Kitzmueller\"></a> Kitzmueller, M., Shimshack, J. (2012) Economic perspectives on corporate social responsibility. Journal of Economic Literature, Vol. 50, no 1, 51–84.\n",
    "\n",
    "<div style=\"text-align: justify\"> <a name=\"2011 Laudal\"></a> Laudal, T. (2011) Drivers and barriers of CSR and the size and internationalization of firms. Social Responsibility Journal, Vol. 7 Issue: 2, pp.234-256, DOI: 10.1108/17471111111141512\n",
    "\n",
    "<div style=\"text-align: justify\"> <a name=\"2002 Lea\"></a> Lea R. (2002).Corporate Social Responsibility, Institute of Directors (IoD) member opinion survey. IoD: London. http://www.epolitix.com/data/companies/images/Companies/Instituteof-Directors/CSR_Report.pdf [23 June 2003].\n",
    "\n",
    "<div style=\"text-align: justify\"> <a name=\"2008 Lyon\"></a> Lyon, T. P., Maxwell, J. W. (2008) Corporate Social Responsibility and the Environment: A Theoretical Perspective. Review of Environmental Economics and Policy, Volume 2, Issue 2, Pages 240–260, https://doi.org/10.1093/reep/ren004\n",
    "\n",
    "<div style=\"text-align: justify\"> <a name=\"2003 Lundström\"></a> Lundström, S. (2003) Effects of Economic Freedom on Growth and the Environment – Implications for Cross-Country Analysis. Available at: https://gupea.ub.gu.se/bitstream/2077/2819/1/gunwpe0115.pdf\n",
    "\n",
    "<div style=\"text-align: justify\"> <a name=\"2009 Managi\"></a> Managi, S., Hibiki, A., Tsurumi, T. (2009) Does Trade Openness Improve Environmental Quality? Journal of Environmental Economics and Management, Vol. 58 (3), Pages 346-363. DOI:10.1016/j.jeem.2009.04.008\n",
    "\n",
    "<div style=\"text-align: justify\"> <a name=\"2001 Marsden\"></a> Marsden C. 2001. The Role of Public Authorities in Corporate Social Responsibility. http://www.alter.be/socialresponsibility/people/marchri/en/displayPerson [23 June 2003].\n",
    "\n",
    "<div style=\"text-align: justify\"> <a name=\"2017 Miller\"></a> Miller, T., Kim, A. B. (2017) Index of Economic Freedom. Institute for Economic Freedom. The Heritage Foundation. Available at http://www.heritage.org/index/pdf/2017/book/index_2017.pdf\n",
    "\n",
    "<div style=\"text-align: justify\"> <a name=\"2011 OECD\"></a> Organization for economic co-operation and development (OECD) (2011) Taxation, Innovation and the Environment: A Policy Brief. Available at: https://www.oecd.org/environment/tools-evaluation/48178034.pdf Ovaska, T., Takashima, R. (2006) Economic Policy and the level of self-perceived well-being: An international comparison. Journal of Socio-Economics, 35, 308–325.\n",
    "\n",
    "<div style=\"text-align: justify\"> <a name=\"2014 Panahi\"></a> Panahi, H., Assadzadeh, A., Refaei, R. (2014) Economic Freedom and Economic Growth in Mena Countries. Asian Economic and Financial review, 4(1): 105-116.\n",
    "\n",
    "<div style=\"text-align: justify\"> <a name=\"2015 Parede-Gazquez\"></a> Parede-Gazquez, J. D., Rodriguez-Fernandez, J.M., Cuesta-Gonzaleza, M. (2015). Measuring corporate social responsibility using composite indices: Mission impossible? The case of the electricity utility industry. Revista de Contabilidad – Spanish Accounting Review, 19 (1), 142–153.\n",
    "\n",
    "<div style=\"text-align: justify\"> <a name=\"2001 Pinney\"></a> Pinney, C. (2001). Imagine Speaks Out. How to Manage Corporate Social Responsibility and Reputation in a Global Marketplace: theChallenge for Canadian Business. http://www.imagine.ca/content/media/team_canada_china_paper.asp?section = media[23 June 2003].\n",
    "\n",
    "<div style=\"text-align: justify\"> <a name=\"2015 Rahdari\"></a> Rahdari, A., H, Rostamy, A. A. (2015) Designing a general set of sustainability indicators at the corporate level. Journal of Cleaner Production Vol108, Part A, 1, Pages 757-771.\n",
    "\n",
    "<div style=\"text-align: justify\"> <a name=\"Scilly\"></a> Scilly, M. (n.d.). Five Dimensions of Corporate Social Responsibility. Retrieved from http://smallbusiness.chron.com/five-dimensions-corporate-social-responsibility-54700.html\n",
    "\n",
    "<div style=\"text-align: justify\"> <a name=\"2011 Shadbolt\"></a> Shadbolt, F. (2011) Closing the gap between CSR and Regulation. How can Corporate Social Responsibility fill the gaps in Environmental Governance in Australia? Certificate of Advanced Studies in Corporate Social Responsibility, University of Geneva. Available at: http://csr.unige.ch/wp-content/uploads/2013/10/FionaShadbolt-ClosingthegapbetweenCSRandRegulation.pdf\n",
    "\n",
    "<div style=\"text-align: justify\"> <a name=\"2003 Stroup\"></a> Stroup, R. L. (2003) Economic freedom and environmental quality. Proceedings, Federal Reserve Bank of Dallas (October): 73-90.\n",
    "\n",
    "<div style=\"text-align: justify\"> <a name=\"2015 Tay\"></a> Tay, M. Y, Rahman, A. A., Aziz, Y., Sidek, S. (2015) A Review on Drivers and Barriers towards Sustainable Supply Chain Practices. International Journal of Social Science and Humanity, Vol. 5 (10): 892-897.\n",
    "\n",
    "<div style=\"text-align: justify\"> <a name=\"2003 Taylor\"></a> Taylor, M. R., Rubin, E. S., Hounshell, D. A. (2003) Effect of Government Actions on Technological Innovation for SO2 Control. Environmental Science and Technology, published online, DOI: 10.1021/es034223b (2003).\n",
    "\n",
    "<div style=\"text-align: justify\"> <a name=\"2013 Thomson\"></a> Thomson Reuters, 2013. Asset4. ESG ratings portal http://www.trcri.com/index.php?page=asset4\n",
    "WBCSD (2000). Corporate Social Responsibility: Making good business sense. World Business Council for Sustainable Development. ISBN 2-94-024007-8.\n",
    "\n",
    "<div style=\"text-align: justify\"> <a name=\"2014 Herzog\"></a> Wood, J., Herzog, I. (2014) Economic Freedom and Air Quality. Fraser Institute. Available at https://www.fraserinstitute.org/sites/default/files/economic-freedom-and-air-quality.pdf\n",
    "\n",
    "<div style=\"text-align: justify\"> <a name=\"2000 WBCSD\"></a> WBCSD (2000). Corporate Social Responsibility: Making good business sense. World Business Council for Sustainable Development. ISBN 2-94-024007-8."
   ]
  },
  {
   "cell_type": "code",
   "execution_count": null,
   "metadata": {
    "collapsed": true
   },
   "outputs": [],
   "source": []
  }
 ],
 "metadata": {
  "kernelspec": {
   "display_name": "Python 3",
   "language": "python",
   "name": "python3"
  },
  "language_info": {
   "codemirror_mode": {
    "name": "ipython",
    "version": 3
   },
   "file_extension": ".py",
   "mimetype": "text/x-python",
   "name": "python",
   "nbconvert_exporter": "python",
   "pygments_lexer": "ipython3",
   "version": "3.6.3"
  }
 },
 "nbformat": 4,
 "nbformat_minor": 2
}
